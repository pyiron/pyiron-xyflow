{
 "cells": [
  {
   "cell_type": "markdown",
   "id": "8e8fc580-81a6-436d-a00c-cdd3f78b8c00",
   "metadata": {},
   "source": [
    "# PyironFlow: a visual programming environment for pyiron_workflows"
   ]
  },
  {
   "cell_type": "markdown",
   "id": "002c5334-fc90-4032-8f1f-7ad698f8e3c9",
   "metadata": {},
   "source": [
    "Author: Jörg Neugebauer\n",
    "\n",
    "Date: Aug. 16, 2024"
   ]
  },
  {
   "cell_type": "markdown",
   "id": "34b15840-ecf6-4d42-9269-ed235181a08a",
   "metadata": {},
   "source": [
    "Key concepts:\n",
    "- Strict separartion between logical/programmatic part (handled by pyiron_workflows) and gui (handled by a combination of reactflow, a react javascript tool, and ipywidgets to connect to the jupyter ecosystem)\n",
    "- The communication between python and .jsx is handled via traitlets\n",
    "- Graphical and programmatic representation of a workflow, described by its nodes and edges, is fully echangable. The two representations can be seemlessly interchanged, i.e. you can start writing the workflow as code and then transfer it to the gui to extend or run it "
   ]
  },
  {
   "cell_type": "markdown",
   "id": "a8427ed6-22f8-4e03-aeb9-9c57b6eb6724",
   "metadata": {},
   "source": [
    "### Setup configuration"
   ]
  },
  {
   "cell_type": "markdown",
   "id": "83efff2c-20a2-487f-9fe8-ca3cb158f725",
   "metadata": {},
   "source": [
    "#### Include the pyiron_node library into PYTHONPATH (modules need to be importable)"
   ]
  },
  {
   "cell_type": "code",
   "execution_count": 1,
   "id": "3be83a1e-f2b0-4d54-91b2-34b39a903c65",
   "metadata": {},
   "outputs": [],
   "source": [
    "%config IPCompleter.evaluation='unsafe'\n",
    "\n",
    "import sys\n",
    "from pathlib import Path\n",
    "sys.path.insert(0, str(Path(Path.cwd()).parent) + '/pyiron_nodes')"
   ]
  },
  {
   "cell_type": "markdown",
   "id": "a7248af3-afa1-4163-90fe-482f868522c6",
   "metadata": {},
   "source": [
    "#### When creating a new conda environment or react widget install the following tools "
   ]
  },
  {
   "cell_type": "markdown",
   "id": "9a37829a-086a-458b-8d7d-5723900ba5ff",
   "metadata": {},
   "source": [
    "Note: You have to install via conda-forge: \n",
    "- nodejs\n",
    "- esbuild\n",
    "- anywidget\n",
    "\n",
    "Uncomment the line below to install the following modules (.jsx side)"
   ]
  },
  {
   "cell_type": "code",
   "execution_count": 2,
   "id": "e0f2617d-b647-45eb-9688-6ad3da6401f7",
   "metadata": {
    "scrolled": true
   },
   "outputs": [],
   "source": [
    "# !npm install react react-dom @xyflow/react @anywidget/react"
   ]
  },
  {
   "cell_type": "markdown",
   "id": "1bc17fad-9a0f-4a30-bf7b-f89c2d6e9c21",
   "metadata": {},
   "source": [
    "#### Run the following line whenever you modify a file in the js/ (javascript) directory "
   ]
  },
  {
   "cell_type": "code",
   "execution_count": 3,
   "id": "7a1876e6-3d07-46da-a618-381a65e177b8",
   "metadata": {},
   "outputs": [
    {
     "name": "stdout",
     "output_type": "stream",
     "text": [
      "\u001b[1G\u001b[0K⠙\u001b[1G\u001b[0K\n",
      "  \u001b[37mstatic/\u001b[0m\u001b[1mwidget.js\u001b[0m   \u001b[36m308.0kb\u001b[0m\n",
      "  \u001b[37mstatic/\u001b[0m\u001b[1mwidget.css\u001b[0m   \u001b[36m15.1kb\u001b[0m\n",
      "\n",
      "⚡ \u001b[32mDone in 70ms\u001b[0m\n",
      "\u001b[1G\u001b[0K⠙\u001b[1G\u001b[0K"
     ]
    }
   ],
   "source": [
    "!npx esbuild js/widget.jsx --minify --format=esm --bundle --outdir=static"
   ]
  },
  {
   "cell_type": "markdown",
   "id": "58989109-da22-4424-87a0-02b44be5a4a1",
   "metadata": {},
   "source": [
    "## Simple Demonstrator (How to use *anywidget* to build a reactflow widget)"
   ]
  },
  {
   "cell_type": "code",
   "execution_count": 4,
   "id": "bacdd7c5-db0b-45b9-b5c9-960157b3265c",
   "metadata": {},
   "outputs": [],
   "source": [
    "import anywidget\n",
    "import pathlib\n",
    "import traitlets\n",
    "import os\n",
    "import json"
   ]
  },
  {
   "cell_type": "code",
   "execution_count": 20,
   "id": "c43f096b-3435-40b7-84f5-d21281af4622",
   "metadata": {},
   "outputs": [],
   "source": [
    "class ReactFlowWidget(anywidget.AnyWidget):\n",
    "    path = pathlib.Path(os.getcwd()) / 'static' \n",
    "    _esm = path / \"widget.js\"\n",
    "    _css = path / \"widget.css\"\n",
    "    nodes = traitlets.Unicode('[]').tag(sync=True)\n",
    "    edges = traitlets.Unicode('[]').tag(sync=True)\n",
    "    commands = traitlets.Unicode('[]').tag(sync=True)"
   ]
  },
  {
   "cell_type": "markdown",
   "id": "cddb7083-b7de-4e5d-b6a3-ff85da9d3180",
   "metadata": {},
   "source": [
    "### Create an empty reactflow window"
   ]
  },
  {
   "cell_type": "code",
   "execution_count": 21,
   "id": "86260af7-a89c-4716-b1e2-bd87169a5f8c",
   "metadata": {},
   "outputs": [
    {
     "data": {
      "application/vnd.jupyter.widget-view+json": {
       "model_id": "a3fd853a6d8b4123a0fb194324414d6b",
       "version_major": 2,
       "version_minor": 1
      },
      "text/plain": [
       "ReactFlowWidget()"
      ]
     },
     "execution_count": 21,
     "metadata": {},
     "output_type": "execute_result"
    }
   ],
   "source": [
    "w = ReactFlowWidget()\n",
    "w"
   ]
  },
  {
   "cell_type": "markdown",
   "id": "705c599b-2bf3-46ed-bccd-144ee901cb0d",
   "metadata": {},
   "source": [
    "#### Create some nodes and load them into the widget (to see the effect go back the the frame above)"
   ]
  },
  {
   "cell_type": "markdown",
   "id": "6a411836-aca8-4ebf-83f3-03077ce317ab",
   "metadata": {},
   "source": [
    "Note: We have to convert the nodes dictionary to json to load it"
   ]
  },
  {
   "cell_type": "code",
   "execution_count": 25,
   "id": "23222809-34df-4d42-b81c-a82bee6e86e3",
   "metadata": {},
   "outputs": [],
   "source": [
    "nodes = [\n",
    "    {\n",
    "      'id': '1',\n",
    "      'data': { 'label': 'Hello' },\n",
    "      'position': { 'x': 0, 'y': 0 },\n",
    "      'type': 'input',\n",
    "      'sourcePosition': 'right',\n",
    "    },\n",
    "    {\n",
    "      'id': '2',\n",
    "      'data': { 'label': 'message' },\n",
    "      'position': { 'x': 250, 'y': 100 },\n",
    "      'type': 'output',\n",
    "      'targetPosition': 'left',      \n",
    "    },\n",
    "    {\n",
    "      'id': '3',\n",
    "      'data': { 'label': 'my_node_1', \n",
    "               'source_labels': ['a', 'b'],\n",
    "               'target_labels': ['in1', 'in_2', 'in_3'],\n",
    "               'target_values': ['1', None, 2],\n",
    "              },\n",
    "      'position': { 'x': 0, 'y': 100 },\n",
    "      'type': 'customNode',\n",
    "      'style': {\n",
    "              'border': '1px black solid',\n",
    "              'padding': 5,\n",
    "              'background': '#999',\n",
    "              'border-radius': '10px',\n",
    "              'width': '200px',\n",
    "            },    \n",
    "      'targetPosition': 'left',  \n",
    "      'sourcePosition': 'right',  \n",
    "    },\n",
    "    {\n",
    "      'id': '4',\n",
    "      'data': { 'label': 'my_node_2', \n",
    "               'source_labels': ['a', 'c', '12'],\n",
    "               'target_labels': ['in1', 'in_2'],\n",
    "               'target_values': ['1', None],\n",
    "              },\n",
    "      'position': { 'x': 300, 'y': 160 },\n",
    "      'type': 'customNode',\n",
    "      'style': {\n",
    "              'border': '1px black solid',\n",
    "              'padding': 20,\n",
    "              'background': '#1999',\n",
    "            },    \n",
    "      'targetPosition': 'left',  \n",
    "      'sourcePosition': 'right',  \n",
    "    }\n",
    "]\n",
    "\n",
    "nodes_json = json.dumps(nodes)\n",
    "w.nodes = nodes_json"
   ]
  },
  {
   "cell_type": "markdown",
   "id": "df1b3652-820b-4067-b066-1fe3327bebef",
   "metadata": {},
   "source": [
    "Play a bit with the widget. Move the nodes, connect the node handles. You can get all the changes you did graphicall via the nodes and edges property of the widget:"
   ]
  },
  {
   "cell_type": "code",
   "execution_count": 8,
   "id": "3e89757b-58ec-4751-ab36-3c2754214142",
   "metadata": {},
   "outputs": [
    {
     "data": {
      "text/plain": [
       "[]"
      ]
     },
     "execution_count": 8,
     "metadata": {},
     "output_type": "execute_result"
    }
   ],
   "source": [
    "json.loads(w.edges)"
   ]
  },
  {
   "cell_type": "markdown",
   "id": "717f068f-a6b9-45d1-8d4a-34188df8f089",
   "metadata": {},
   "source": [
    "## PyironFlow Gui"
   ]
  },
  {
   "cell_type": "markdown",
   "id": "a9788019-fbc8-4612-9bc6-7b03b2df0304",
   "metadata": {},
   "source": [
    "#### Definition via workflow"
   ]
  },
  {
   "cell_type": "code",
   "execution_count": 9,
   "id": "f4d7c441-ce54-4e1a-b87c-f765de711289",
   "metadata": {},
   "outputs": [
    {
     "name": "stdout",
     "output_type": "stream",
     "text": [
      "\u001b[1G\u001b[0K⠙\u001b[1G\u001b[0K\n",
      "  \u001b[37mstatic/\u001b[0m\u001b[1mwidget.js\u001b[0m   \u001b[36m308.0kb\u001b[0m\n",
      "  \u001b[37mstatic/\u001b[0m\u001b[1mwidget.css\u001b[0m   \u001b[36m15.1kb\u001b[0m\n",
      "\n",
      "⚡ \u001b[32mDone in 56ms\u001b[0m\n",
      "\u001b[1G\u001b[0K⠙\u001b[1G\u001b[0K"
     ]
    }
   ],
   "source": [
    "!npx esbuild js/widget.jsx --minify --format=esm --bundle --outdir=static"
   ]
  },
  {
   "cell_type": "code",
   "execution_count": 10,
   "id": "2d384fd8-5a61-4a4e-ba9e-8343db77d392",
   "metadata": {},
   "outputs": [],
   "source": [
    "%config IPCompleter.evaluation='unsafe'\n",
    "\n",
    "import sys\n",
    "from pathlib import Path\n",
    "sys.path.insert(0, str(Path(Path.cwd()).parent) + '/pyiron_nodes')"
   ]
  },
  {
   "cell_type": "markdown",
   "id": "01664ecc-b47e-47fa-a21c-a1b9531efd99",
   "metadata": {},
   "source": [
    "### Create two example workflows (to compute elastic constants and an empty one)"
   ]
  },
  {
   "cell_type": "code",
   "execution_count": 11,
   "id": "4f923d3b-3ede-428e-8d6d-fac62264f78c",
   "metadata": {},
   "outputs": [
    {
     "data": {
      "application/vnd.jupyter.widget-view+json": {
       "model_id": "9f245c47d96843cd998b5f290c6236bc",
       "version_major": 2,
       "version_minor": 0
      },
      "text/plain": []
     },
     "metadata": {},
     "output_type": "display_data"
    }
   ],
   "source": [
    "from pyiron_workflow import Workflow   \n",
    "\n",
    "Workflow.register(\"node_library.atomistic\", \"atomistic\") \n",
    "\n",
    "wf = Workflow('compute_elastic_constants')\n",
    "wf.engine = wf.create.atomistic.engine.ase.M3GNet()\n",
    "wf.bulk = wf.create.atomistic.structure.build.bulk('Pb', cubic=True)\n",
    "wf.elastic = wf.create.atomistic.property.elastic.elastic_constants(structure=wf.bulk, engine=wf.engine) #, parameters=parameters)\n",
    "# out = elastic.pull()\n",
    "\n",
    "wf_new = Workflow('new_workflow')"
   ]
  },
  {
   "cell_type": "code",
   "execution_count": 12,
   "id": "005814b6-b152-407d-a130-928d32e51741",
   "metadata": {},
   "outputs": [
    {
     "data": {
      "application/vnd.jupyter.widget-view+json": {
       "model_id": "aa36d47a156143b685cc0eda6b050c65",
       "version_major": 2,
       "version_minor": 0
      },
      "text/plain": [
       "HBox(children=(Accordion(children=(Tree(nodes=(Node(icon_style='warning', name='databases'), Node(icon_style='…"
      ]
     },
     "execution_count": 12,
     "metadata": {},
     "output_type": "execute_result"
    }
   ],
   "source": [
    "from python.pyironflow import PyironFlow\n",
    "\n",
    "pf = PyironFlow([wf, wf_new])\n",
    "pf.gui"
   ]
  },
  {
   "cell_type": "markdown",
   "id": "527a4315-32e3-45a3-bec5-7efd12163e6b",
   "metadata": {},
   "source": [
    "### Get the grapically build or modified workflow"
   ]
  },
  {
   "cell_type": "code",
   "execution_count": 13,
   "id": "9d618ec7-9b51-45bd-b9f9-ede1bdcfc0ee",
   "metadata": {},
   "outputs": [
    {
     "data": {
      "text/plain": [
       "NOT_DATA"
      ]
     },
     "execution_count": 13,
     "metadata": {},
     "output_type": "execute_result"
    }
   ],
   "source": [
    "wf = pf.get_workflow()\n",
    "wf.bulk.outputs.channel_dict['structure'].value"
   ]
  },
  {
   "cell_type": "code",
   "execution_count": 14,
   "id": "5c6aeaf5-4694-4498-9bb5-7a83e555e08d",
   "metadata": {},
   "outputs": [
    {
     "data": {
      "text/plain": [
       "'[]'"
      ]
     },
     "execution_count": 14,
     "metadata": {},
     "output_type": "execute_result"
    }
   ],
   "source": [
    "pf.wf_widgets[1].gui.nodes"
   ]
  },
  {
   "cell_type": "markdown",
   "id": "c46db326-daf7-453c-919d-e882b8e8df8b",
   "metadata": {},
   "source": [
    "### You can return the workflow back to the gui "
   ]
  },
  {
   "cell_type": "markdown",
   "id": "99101524-fa8a-4ea2-ada8-be2c9e3708e0",
   "metadata": {},
   "source": [
    "Note: \n",
    "- all the nodes and connections are reproduced\n",
    "- the node positions are presently not stored, you have to place them manually"
   ]
  },
  {
   "cell_type": "code",
   "execution_count": 15,
   "id": "c9b1cdf2-374f-4752-9a61-7762b61e64a4",
   "metadata": {},
   "outputs": [
    {
     "data": {
      "application/vnd.jupyter.widget-view+json": {
       "model_id": "d87890cbbdb445d095e2204e1b6e4a34",
       "version_major": 2,
       "version_minor": 0
      },
      "text/plain": [
       "HBox(children=(Accordion(children=(Tree(nodes=(Node(icon_style='warning', name='databases'), Node(icon_style='…"
      ]
     },
     "execution_count": 15,
     "metadata": {},
     "output_type": "execute_result"
    }
   ],
   "source": [
    "wf = pf.get_workflow()\n",
    "pf2 = PyironFlow([wf])\n",
    "pf2.gui"
   ]
  },
  {
   "cell_type": "markdown",
   "id": "b9b8b084-6c81-42e6-85fd-1b9fe60b296b",
   "metadata": {},
   "source": [
    "#### Get the nodes of the graphically represented workflow (remove the semicolon)"
   ]
  },
  {
   "cell_type": "code",
   "execution_count": 16,
   "id": "94c103f6-37f0-44da-8fda-19b88d3a4c54",
   "metadata": {},
   "outputs": [],
   "source": [
    "import json\n",
    "json.loads(pf.wf_widgets[0].gui.nodes);"
   ]
  },
  {
   "cell_type": "markdown",
   "id": "31b94459-6a73-4fcf-9d61-7ccdec3170d3",
   "metadata": {},
   "source": [
    "#### Run the workflow manually (you can also do this in the gui)"
   ]
  },
  {
   "cell_type": "code",
   "execution_count": 17,
   "id": "49605a78-999f-4b5f-b519-6691fdf36b6e",
   "metadata": {},
   "outputs": [
    {
     "name": "stderr",
     "output_type": "stream",
     "text": [
      "/Users/joerg/miniforge3/envs/py12/lib/python3.12/site-packages/matgl/apps/pes.py:69: UserWarning: To copy construct from a tensor, it is recommended to use sourceTensor.clone().detach() or sourceTensor.clone().detach().requires_grad_(True), rather than torch.tensor(sourceTensor).\n",
      "  self.element_refs = AtomRef(property_offset=torch.tensor(element_refs, dtype=matgl.float_th))\n",
      "/Users/joerg/miniforge3/envs/py12/lib/python3.12/site-packages/matgl/apps/pes.py:75: UserWarning: To copy construct from a tensor, it is recommended to use sourceTensor.clone().detach() or sourceTensor.clone().detach().requires_grad_(True), rather than torch.tensor(sourceTensor).\n",
      "  self.register_buffer(\"data_mean\", torch.tensor(data_mean, dtype=matgl.float_th))\n",
      "/Users/joerg/miniforge3/envs/py12/lib/python3.12/site-packages/matgl/apps/pes.py:76: UserWarning: To copy construct from a tensor, it is recommended to use sourceTensor.clone().detach() or sourceTensor.clone().detach().requires_grad_(True), rather than torch.tensor(sourceTensor).\n",
      "  self.register_buffer(\"data_std\", torch.tensor(data_std, dtype=matgl.float_th))\n",
      "/Users/joerg/miniforge3/envs/py12/lib/python3.12/site-packages/spglib/spglib.py:115: DeprecationWarning: dict interface (SpglibDataset['number']) is deprecated.Use attribute interface ({self.__class__.__name__}.{key}) instead\n",
      "  warnings.warn(\n",
      "/Users/joerg/miniforge3/envs/py12/lib/python3.12/site-packages/matgl/layers/_basis.py:121: UserWarning: To copy construct from a tensor, it is recommended to use sourceTensor.clone().detach() or sourceTensor.clone().detach().requires_grad_(True), rather than torch.tensor(sourceTensor).\n",
      "  root = torch.tensor(roots[i])\n",
      "/Users/joerg/miniforge3/envs/py12/lib/python3.12/site-packages/spglib/spglib.py:115: DeprecationWarning: dict interface (SpglibDataset['number']) is deprecated.Use attribute interface ({self.__class__.__name__}.{key}) instead\n",
      "  warnings.warn(\n"
     ]
    }
   ],
   "source": [
    "out = wf.run()"
   ]
  },
  {
   "cell_type": "markdown",
   "id": "0fed749e-8285-428b-8f5d-a6c47d981556",
   "metadata": {},
   "source": [
    "#### Open the log window for debugging"
   ]
  },
  {
   "cell_type": "code",
   "execution_count": 18,
   "id": "ae6cee08-34b5-4f88-b963-d857dc15ef20",
   "metadata": {},
   "outputs": [
    {
     "data": {
      "application/vnd.jupyter.widget-view+json": {
       "model_id": "098a5a2d26c14ecc8fa4c290f5550e68",
       "version_major": 2,
       "version_minor": 0
      },
      "text/plain": [
       "Output(layout=Layout(border_bottom='1px solid black', border_left='1px solid black', border_right='1px solid b…"
      ]
     },
     "execution_count": 18,
     "metadata": {},
     "output_type": "execute_result"
    }
   ],
   "source": [
    "pf.out_log"
   ]
  },
  {
   "cell_type": "markdown",
   "id": "9813abeb-7b4a-4fe6-beab-4b45251e75df",
   "metadata": {},
   "source": [
    "TODO:\n",
    "  - Include values at ports (if simple data structures)\n",
    "  - Tree view for new nodes\n",
    "  - build wf from graph\n",
    "  - add top buttons: 'run' (entire workflow)\n",
    "  - automatic arrangement of nodes\n",
    "  - Allow editing input channels (e.g. chemical element)\n",
    "  - Bugs:\n",
    "      - node with multiple outputs cannot be jsonified (get_import_path(node) fails)"
   ]
  },
  {
   "cell_type": "markdown",
   "id": "94f7c453-f7d2-47c4-b4f8-804a766af71f",
   "metadata": {},
   "source": [
    "### Ideas, concepts"
   ]
  },
  {
   "cell_type": "markdown",
   "id": "d1afacbd-b8eb-444d-ae28-e3bdcae7a0a2",
   "metadata": {},
   "source": [
    "The follwoing ipywidget may be useful (e.g. to replace the tabs)"
   ]
  },
  {
   "cell_type": "code",
   "execution_count": 19,
   "id": "37f1b1f6-0cfa-43cd-840a-67f00672060b",
   "metadata": {},
   "outputs": [
    {
     "data": {
      "application/vnd.jupyter.widget-view+json": {
       "model_id": "c3ade0d3204d42d381cb0ec1511d5069",
       "version_major": 2,
       "version_minor": 0
      },
      "text/plain": [
       "TagsInput(value=['pizza', 'fries', '+'], allow_duplicates=False)"
      ]
     },
     "execution_count": 19,
     "metadata": {},
     "output_type": "execute_result"
    }
   ],
   "source": [
    "from ipywidgets import TagsInput\n",
    "TagsInput(\n",
    "    value=['pizza', 'fries', '+'],\n",
    "    # allowed_tags=['pizza', 'fries', 'tomatoes', 'steak'],\n",
    "    allow_duplicates=False\n",
    ")"
   ]
  },
  {
   "cell_type": "code",
   "execution_count": null,
   "id": "12912768-6c3e-4101-a8ab-c68d5cfc3594",
   "metadata": {},
   "outputs": [],
   "source": []
  }
 ],
 "metadata": {
  "kernelspec": {
   "display_name": "Python 3 (ipykernel)",
   "language": "python",
   "name": "python3"
  },
  "language_info": {
   "codemirror_mode": {
    "name": "ipython",
    "version": 3
   },
   "file_extension": ".py",
   "mimetype": "text/x-python",
   "name": "python",
   "nbconvert_exporter": "python",
   "pygments_lexer": "ipython3",
   "version": "3.12.4"
  }
 },
 "nbformat": 4,
 "nbformat_minor": 5
}
