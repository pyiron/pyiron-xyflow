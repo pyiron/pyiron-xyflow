{
 "cells": [
  {
   "cell_type": "markdown",
   "id": "e685173d-686c-489a-bbb4-eedef29fbba3",
   "metadata": {},
   "source": [
    "# PyironFlow demo"
   ]
  },
  {
   "cell_type": "markdown",
   "id": "e10399f6-5f0c-426c-9dfc-8ecc2fc59354",
   "metadata": {},
   "source": [
    "Uncomment the following line if you have edited the .js files"
   ]
  },
  {
   "cell_type": "code",
   "execution_count": 1,
   "id": "6b50621c-5611-4869-a758-1404ec9ea67a",
   "metadata": {},
   "outputs": [],
   "source": [
    "# !npx esbuild js/widget.jsx --minify --format=esm --bundle --outdir=static"
   ]
  },
  {
   "cell_type": "code",
   "execution_count": 2,
   "id": "3be83a1e-f2b0-4d54-91b2-34b39a903c65",
   "metadata": {},
   "outputs": [],
   "source": [
    "%config IPCompleter.evaluation='unsafe'\n",
    "\n",
    "import sys\n",
    "from pathlib import Path\n",
    "sys.path.insert(0, str(Path(Path.cwd()).parent) + '/pyiron_nodes')"
   ]
  },
  {
   "cell_type": "code",
   "execution_count": 3,
   "id": "dbc017d4-7c5f-48df-a105-e75904a4ed53",
   "metadata": {},
   "outputs": [
    {
     "data": {
      "application/vnd.jupyter.widget-view+json": {
       "model_id": "730ba24e788347328ebbcd0c36f38a6d",
       "version_major": 2,
       "version_minor": 0
      },
      "text/plain": []
     },
     "metadata": {},
     "output_type": "display_data"
    }
   ],
   "source": [
    "from pyiron_workflow import Workflow   \n",
    "\n",
    "import pyiron_nodes as pn\n",
    "\n",
    "wf = Workflow('compute_elastic_constants')\n",
    "wf.engine = pn.atomistic.engine.ase.M3GNet()\n",
    "wf.bulk = pn.atomistic.structure.build.Bulk('Pb', cubic=True)\n",
    "wf.elastic = pn.atomistic.property.elastic.ElasticConstants(structure=wf.bulk, engine=wf.engine) #, parameters=parameters)\n",
    "\n",
    "# wf.elastic.pull()"
   ]
  },
  {
   "cell_type": "code",
   "execution_count": 4,
   "id": "813d8693-da0b-42ab-9534-0818cdf34411",
   "metadata": {},
   "outputs": [
    {
     "data": {
      "application/vnd.jupyter.widget-view+json": {
       "model_id": "e839be419df44480a0222e414e21412c",
       "version_major": 2,
       "version_minor": 0
      },
      "text/plain": [
       "HBox(children=(Accordion(children=(Tree(nodes=(Node(icon_style='warning', name='databases'), Node(icon_style='…"
      ]
     },
     "execution_count": 4,
     "metadata": {},
     "output_type": "execute_result"
    }
   ],
   "source": [
    "from python.pyironflow import PyironFlow\n",
    "\n",
    "pf = PyironFlow([wf])\n",
    "pf.gui"
   ]
  },
  {
   "cell_type": "markdown",
   "id": "3c7cf4ac-7bdc-4cdf-9d7b-2d22ec4c5297",
   "metadata": {},
   "source": [
    "### Some extra features"
   ]
  },
  {
   "cell_type": "markdown",
   "id": "17dd3816-b2bb-45e2-873a-ff49f4ce1fee",
   "metadata": {},
   "source": [
    "#### Get the nodes from the gui"
   ]
  },
  {
   "cell_type": "code",
   "execution_count": 5,
   "id": "fc5d0e67-bb6f-493b-a59d-2234522af360",
   "metadata": {},
   "outputs": [],
   "source": [
    "import json\n",
    "json.loads(pf.wf_widgets[0].gui.nodes);"
   ]
  },
  {
   "cell_type": "markdown",
   "id": "55fd11ed-1567-4a12-8054-c557cf289725",
   "metadata": {},
   "source": [
    "#### Show the workflow widget from tab_0"
   ]
  },
  {
   "cell_type": "code",
   "execution_count": 6,
   "id": "a6047623-934c-4339-953c-42ec4728f6e7",
   "metadata": {},
   "outputs": [
    {
     "data": {
      "application/vnd.jupyter.widget-view+json": {
       "model_id": "341b1d382677476d802f2f8a1112b58f",
       "version_major": 2,
       "version_minor": 1
      },
      "text/plain": [
       "ReactFlowWidget(edges='[{\"source\": \"engine\", \"sourceHandle\": \"engine\", \"target\": \"elastic\", \"targetHandle\": \"e…"
      ]
     },
     "execution_count": 6,
     "metadata": {},
     "output_type": "execute_result"
    }
   ],
   "source": [
    "pf.wf_widgets[0].gui"
   ]
  },
  {
   "cell_type": "markdown",
   "id": "0d46cdb7-cc6a-45ea-84bc-11537afe43eb",
   "metadata": {},
   "source": [
    "#### Get the current workflow from the gui and visualize it (test completeness of switching between graphical and programmatic representation)"
   ]
  },
  {
   "cell_type": "code",
   "execution_count": 7,
   "id": "9e7a9e47-ca0d-4976-b257-3533f1c33957",
   "metadata": {},
   "outputs": [
    {
     "data": {
      "application/vnd.jupyter.widget-view+json": {
       "model_id": "642692e1c192437daf1ef5abc55b058e",
       "version_major": 2,
       "version_minor": 0
      },
      "text/plain": [
       "HBox(children=(Accordion(children=(Tree(nodes=(Node(icon_style='warning', name='databases'), Node(icon_style='…"
      ]
     },
     "execution_count": 7,
     "metadata": {},
     "output_type": "execute_result"
    }
   ],
   "source": [
    "wf = pf.get_workflow()\n",
    "\n",
    "pf = PyironFlow([wf])\n",
    "pf.gui"
   ]
  },
  {
   "cell_type": "markdown",
   "id": "b7de4906-4a23-4d40-8913-755e1d9ae862",
   "metadata": {},
   "source": [
    "### Built Lammps workflow from scratch"
   ]
  },
  {
   "cell_type": "code",
   "execution_count": 8,
   "id": "a7f0ced8-a876-421c-b384-500fcc946103",
   "metadata": {},
   "outputs": [],
   "source": [
    "from pyiron_workflow import Workflow   \n",
    "import pyiron_nodes as pn\n"
   ]
  },
  {
   "cell_type": "code",
   "execution_count": 13,
   "id": "2846592e-3e95-4064-8c9f-fa21a455d3a2",
   "metadata": {},
   "outputs": [],
   "source": [
    "wf = Workflow('Lammps')\n",
    "wf.structure = pn.atomistic.structure.build.Bulk('Al', cubic=True)\n",
    "wf.repeat = pn.atomistic.structure.transform.Repeat(structure=wf.structure, repeat_scalar=3)\n",
    "\n",
    "wf.calculator = pn.lammps.CalcMD() # temperature=300, n_ionic_steps=10_000)\n",
    "wf.potential = pn.atomistic.engine.lammps.Potential(\n",
    "    structure=wf.structure, name='1995--Angelo-J-E--Ni-Al-H--LAMMPS--ipr1'\n",
    ")\n",
    "\n",
    "wf.init_lammps = pn.atomistic.engine.lammps.InitLammps(\n",
    "        structure=wf.repeat,\n",
    "        potential=wf.potential,\n",
    "        calculator=wf.calculator,\n",
    "        working_directory=\"test2\",\n",
    "    )\n",
    "\n",
    "wf.shell = pn.atomistic.engine.lammps.Shell(\n",
    "        # command=ExecutablePathResolver(module=\"lammps\", code=\"lammps\").path(),\n",
    "        working_directory=wf.init_lammps,\n",
    "    )\n",
    "\n",
    "wf.ParseLogFile = pn.atomistic.engine.lammps.ParseLogFile(\n",
    "    log_file=wf.shell.outputs.log\n",
    ")\n",
    "wf.ParseDumpFile = pn.atomistic.engine.lammps.ParseDumpFile(\n",
    "    dump_file=wf.shell.outputs.dump\n",
    ")\n",
    "wf.Collect = pn.atomistic.engine.lammps.Collect(\n",
    "    out_dump=wf.ParseDumpFile.outputs.dump,\n",
    "    out_log=wf.ParseLogFile.outputs.log,\n",
    "    calc_mode='md',\n",
    ")\n",
    "\n",
    "wf.get_energy_pot = pn.atomistic.engine.lammps.GetEnergyPot(generic=wf.Collect)\n",
    "\n",
    "out = wf.run()"
   ]
  },
  {
   "cell_type": "code",
   "execution_count": 14,
   "id": "64a70d90-410c-4079-a7c4-b5d123e06306",
   "metadata": {},
   "outputs": [
    {
     "data": {
      "text/plain": [
       "array([-362.87999968, -358.5129855 , -358.4579939 , -358.31296039,\n",
       "       -358.55784106, -359.02478623, -358.31887295, -358.83137511,\n",
       "       -358.65856012])"
      ]
     },
     "execution_count": 14,
     "metadata": {},
     "output_type": "execute_result"
    }
   ],
   "source": [
    "wf.get_energy_pot.pull()[0:-1]"
   ]
  },
  {
   "cell_type": "code",
   "execution_count": 15,
   "id": "10975d1d-e834-40e3-9797-a94b7b5c31f8",
   "metadata": {},
   "outputs": [
    {
     "data": {
      "application/vnd.jupyter.widget-view+json": {
       "model_id": "9f0e3590e2974215b94929a44d00b25d",
       "version_major": 2,
       "version_minor": 0
      },
      "text/plain": [
       "HBox(children=(Accordion(children=(Tree(nodes=(Node(icon_style='warning', name='databases'), Node(icon_style='…"
      ]
     },
     "execution_count": 15,
     "metadata": {},
     "output_type": "execute_result"
    }
   ],
   "source": [
    "from python.pyironflow import PyironFlow\n",
    "\n",
    "pf = PyironFlow([wf])\n",
    "pf.gui"
   ]
  },
  {
   "cell_type": "code",
   "execution_count": null,
   "id": "97deb2ca-4c93-421b-9107-97559519024e",
   "metadata": {},
   "outputs": [],
   "source": []
  }
 ],
 "metadata": {
  "kernelspec": {
   "display_name": "Python 3 (ipykernel)",
   "language": "python",
   "name": "python3"
  },
  "language_info": {
   "codemirror_mode": {
    "name": "ipython",
    "version": 3
   },
   "file_extension": ".py",
   "mimetype": "text/x-python",
   "name": "python",
   "nbconvert_exporter": "python",
   "pygments_lexer": "ipython3",
   "version": "3.12.4"
  }
 },
 "nbformat": 4,
 "nbformat_minor": 5
}
