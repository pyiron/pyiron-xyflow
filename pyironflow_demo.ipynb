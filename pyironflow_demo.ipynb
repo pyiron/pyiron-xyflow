{
 "cells": [
  {
   "cell_type": "markdown",
   "id": "e685173d-686c-489a-bbb4-eedef29fbba3",
   "metadata": {},
   "source": [
    "# PyironFlow demo"
   ]
  },
  {
   "cell_type": "markdown",
   "id": "e10399f6-5f0c-426c-9dfc-8ecc2fc59354",
   "metadata": {},
   "source": [
    "Uncomment the following line if you have edited the .js files"
   ]
  },
  {
   "cell_type": "code",
   "execution_count": 1,
   "id": "6b50621c-5611-4869-a758-1404ec9ea67a",
   "metadata": {},
   "outputs": [
    {
     "name": "stdout",
     "output_type": "stream",
     "text": [
      "\u001b[1G\u001b[0K⠙\u001b[1G\u001b[0K\n",
      "  \u001b[37mstatic/\u001b[0m\u001b[1mwidget.js\u001b[0m    \u001b[33m1.7mb ⚠️\u001b[0m\n",
      "  \u001b[37mstatic/\u001b[0m\u001b[1mwidget.css\u001b[0m  \u001b[36m15.1kb\u001b[0m\n",
      "\n",
      "⚡ \u001b[32mDone in 155ms\u001b[0m\n",
      "\u001b[1G\u001b[0K⠙\u001b[1G\u001b[0K"
     ]
    }
   ],
   "source": [
    "!npx esbuild js/widget.jsx --minify --format=esm --bundle --outdir=static"
   ]
  },
  {
   "cell_type": "code",
   "execution_count": 1,
   "id": "3be83a1e-f2b0-4d54-91b2-34b39a903c65",
   "metadata": {},
   "outputs": [],
   "source": [
    "%config IPCompleter.evaluation='unsafe'\n",
    "\n",
    "import sys\n",
    "from pathlib import Path\n",
    "sys.path.insert(0, str(Path(Path.cwd()).parent) + '/pyiron_nodes')"
   ]
  },
  {
   "cell_type": "markdown",
   "id": "5e556f67-d269-47be-9d23-bb50710b50c4",
   "metadata": {},
   "source": [
    "## Elastic constants"
   ]
  },
  {
   "cell_type": "code",
   "execution_count": 3,
   "id": "dbc017d4-7c5f-48df-a105-e75904a4ed53",
   "metadata": {},
   "outputs": [],
   "source": [
    "from pyiron_workflow import Workflow   \n",
    "\n",
    "import pyiron_nodes as pn\n",
    "\n",
    "wf = Workflow('compute_elastic_constants')\n",
    "wf.engine = pn.atomistic.engine.ase.M3GNet()\n",
    "wf.bulk = pn.atomistic.structure.build.Bulk('Pb', cubic=True)\n",
    "wf.elastic = pn.atomistic.property.elastic.ElasticConstants(structure=wf.bulk, engine=wf.engine) #, parameters=parameters)\n",
    "\n",
    "# wf.elastic.pull()"
   ]
  },
  {
   "cell_type": "code",
   "execution_count": 5,
   "id": "56c26ff4-f7a8-46a6-a99c-40256af96174",
   "metadata": {},
   "outputs": [],
   "source": [
    "wf.draw();"
   ]
  },
  {
   "cell_type": "code",
   "execution_count": 3,
   "id": "4a3c6b40-4426-4479-a039-686cce4f923e",
   "metadata": {},
   "outputs": [
    {
     "data": {
      "text/plain": [
       "True"
      ]
     },
     "execution_count": 3,
     "metadata": {},
     "output_type": "execute_result"
    }
   ],
   "source": [
    "wf.bulk.position = (10, 0)\n",
    "'position' in dir(wf.bulk)"
   ]
  },
  {
   "cell_type": "code",
   "execution_count": 6,
   "id": "813d8693-da0b-42ab-9534-0818cdf34411",
   "metadata": {},
   "outputs": [
    {
     "data": {
      "application/vnd.jupyter.widget-view+json": {
       "model_id": "9e6831c3f1014224a14be92d513a00f0",
       "version_major": 2,
       "version_minor": 0
      },
      "text/plain": [
       "HBox(children=(Accordion(children=(Tree(nodes=(Node(icon_style='warning', name='databases'), Node(icon_style='…"
      ]
     },
     "execution_count": 6,
     "metadata": {},
     "output_type": "execute_result"
    }
   ],
   "source": [
    "from python.pyironflow import PyironFlow\n",
    "\n",
    "pf = PyironFlow([wf])\n",
    "pf.gui"
   ]
  },
  {
   "cell_type": "markdown",
   "id": "3c7cf4ac-7bdc-4cdf-9d7b-2d22ec4c5297",
   "metadata": {},
   "source": [
    "### Some extra features"
   ]
  },
  {
   "cell_type": "markdown",
   "id": "17dd3816-b2bb-45e2-873a-ff49f4ce1fee",
   "metadata": {},
   "source": [
    "#### Get the nodes from the gui"
   ]
  },
  {
   "cell_type": "code",
   "execution_count": 12,
   "id": "fc5d0e67-bb6f-493b-a59d-2234522af360",
   "metadata": {},
   "outputs": [],
   "source": [
    "import json\n",
    "json.loads(pf.wf_widgets[0].gui.nodes);"
   ]
  },
  {
   "cell_type": "markdown",
   "id": "55fd11ed-1567-4a12-8054-c557cf289725",
   "metadata": {},
   "source": [
    "#### Show the workflow widget from tab_0"
   ]
  },
  {
   "cell_type": "code",
   "execution_count": 13,
   "id": "a6047623-934c-4339-953c-42ec4728f6e7",
   "metadata": {},
   "outputs": [
    {
     "data": {
      "application/vnd.jupyter.widget-view+json": {
       "model_id": "a1c8a8650c3e43419c138a5ba298486a",
       "version_major": 2,
       "version_minor": 1
      },
      "text/plain": [
       "ReactFlowWidget(commands='run: elastic - 1725825070119', edges='[{\"source\": \"engine\", \"sourceHandle\": \"engine\"…"
      ]
     },
     "execution_count": 13,
     "metadata": {},
     "output_type": "execute_result"
    }
   ],
   "source": [
    "pf.wf_widgets[0].gui"
   ]
  },
  {
   "cell_type": "markdown",
   "id": "0d46cdb7-cc6a-45ea-84bc-11537afe43eb",
   "metadata": {},
   "source": [
    "#### Get the current workflow from the gui and visualize it (test completeness of switching between graphical and programmatic representation)"
   ]
  },
  {
   "cell_type": "code",
   "execution_count": 9,
   "id": "9e7a9e47-ca0d-4976-b257-3533f1c33957",
   "metadata": {},
   "outputs": [
    {
     "data": {
      "application/vnd.jupyter.widget-view+json": {
       "model_id": "1ff5151e89ab4d14856abbd143a8b6f0",
       "version_major": 2,
       "version_minor": 0
      },
      "text/plain": [
       "HBox(children=(Accordion(children=(Tree(nodes=(Node(icon_style='warning', name='databases'), Node(icon_style='…"
      ]
     },
     "execution_count": 9,
     "metadata": {},
     "output_type": "execute_result"
    }
   ],
   "source": [
    "wf = pf.get_workflow()\n",
    "\n",
    "pf = PyironFlow([wf])\n",
    "pf.gui"
   ]
  },
  {
   "cell_type": "markdown",
   "id": "6b478083-a50a-42c9-8556-a0fb556f9b4d",
   "metadata": {},
   "source": [
    "## Phonons"
   ]
  },
  {
   "cell_type": "code",
   "execution_count": 7,
   "id": "6e64336b-18c5-444e-a8a1-24357a2b46f2",
   "metadata": {},
   "outputs": [],
   "source": [
    "from pyiron_workflow import Workflow   \n",
    "\n",
    "import pyiron_nodes as pn\n",
    "\n",
    "wf = Workflow('phonons')\n",
    "wf.engine = pn.atomistic.engine.ase.M3GNet()\n",
    "wf.bulk = pn.atomistic.structure.build.CubicBulkCell('Pb', cell_size=3)\n",
    "wf.phonopy = pn.atomistic.property.phonons.CreatePhonopy(structure=wf.bulk, engine=wf.engine) #, parameters=parameters)\n",
    "wf.dos = pn.atomistic.property.phonons.GetTotalDos(phonopy=wf.phonopy.outputs.phonopy)\n",
    "\n",
    "# wf.run()\n"
   ]
  },
  {
   "cell_type": "code",
   "execution_count": 8,
   "id": "051bed2f-6100-4ee4-95e5-f70aa38f56cb",
   "metadata": {},
   "outputs": [
    {
     "data": {
      "application/vnd.jupyter.widget-view+json": {
       "model_id": "e3b46db548d645f183ba719daa5e6a1a",
       "version_major": 2,
       "version_minor": 0
      },
      "text/plain": [
       "HBox(children=(Accordion(children=(Tree(nodes=(Node(icon_style='warning', name='databases'), Node(icon_style='…"
      ]
     },
     "execution_count": 8,
     "metadata": {},
     "output_type": "execute_result"
    }
   ],
   "source": [
    "pf = PyironFlow([wf])\n",
    "pf.gui"
   ]
  },
  {
   "cell_type": "markdown",
   "id": "b7de4906-4a23-4d40-8913-755e1d9ae862",
   "metadata": {},
   "source": [
    "## Built Lammps workflow from scratch"
   ]
  },
  {
   "cell_type": "code",
   "execution_count": 11,
   "id": "a7f0ced8-a876-421c-b384-500fcc946103",
   "metadata": {},
   "outputs": [],
   "source": [
    "from pyiron_workflow import Workflow   \n",
    "import pyiron_nodes as pn\n"
   ]
  },
  {
   "cell_type": "code",
   "execution_count": 12,
   "id": "2846592e-3e95-4064-8c9f-fa21a455d3a2",
   "metadata": {},
   "outputs": [],
   "source": [
    "wf = Workflow('Lammps')\n",
    "wf.structure = pn.atomistic.structure.build.Bulk('Al', cubic=True)\n",
    "wf.repeat = pn.atomistic.structure.transform.Repeat(structure=wf.structure, repeat_scalar=3)\n",
    "\n",
    "wf.calculator = pn.lammps.CalcMD() # temperature=300, n_ionic_steps=10_000)\n",
    "wf.potential = pn.atomistic.engine.lammps.Potential(\n",
    "    structure=wf.structure, name='1995--Angelo-J-E--Ni-Al-H--LAMMPS--ipr1'\n",
    ")\n",
    "\n",
    "wf.init_lammps = pn.atomistic.engine.lammps.InitLammps(\n",
    "        structure=wf.repeat,\n",
    "        potential=wf.potential,\n",
    "        calculator=wf.calculator,\n",
    "        working_directory=\"test2\",\n",
    "    )\n",
    "\n",
    "wf.shell = pn.atomistic.engine.lammps.Shell(\n",
    "        # command=ExecutablePathResolver(module=\"lammps\", code=\"lammps\").path(),\n",
    "        working_directory=wf.init_lammps,\n",
    "    )\n",
    "\n",
    "wf.ParseLogFile = pn.atomistic.engine.lammps.ParseLogFile(\n",
    "    log_file=wf.shell.outputs.log\n",
    ")\n",
    "wf.ParseDumpFile = pn.atomistic.engine.lammps.ParseDumpFile(\n",
    "    dump_file=wf.shell.outputs.dump\n",
    ")\n",
    "wf.Collect = pn.atomistic.engine.lammps.Collect(\n",
    "    out_dump=wf.ParseDumpFile.outputs.dump,\n",
    "    out_log=wf.ParseLogFile.outputs.log,\n",
    "    calc_mode='md',\n",
    ")\n",
    "\n",
    "wf.get_energy_pot = pn.atomistic.engine.lammps.GetEnergyPot(generic=wf.Collect)\n",
    "\n",
    "out = wf.run()"
   ]
  },
  {
   "cell_type": "code",
   "execution_count": 13,
   "id": "64a70d90-410c-4079-a7c4-b5d123e06306",
   "metadata": {},
   "outputs": [
    {
     "data": {
      "text/plain": [
       "array([-362.87999968, -358.5129855 , -358.4579939 , -358.31296039,\n",
       "       -358.55784106, -359.02478623, -358.31887295, -358.83137511,\n",
       "       -358.65856012])"
      ]
     },
     "execution_count": 13,
     "metadata": {},
     "output_type": "execute_result"
    }
   ],
   "source": [
    "wf.get_energy_pot.pull()[0:-1]"
   ]
  },
  {
   "cell_type": "code",
   "execution_count": 14,
   "id": "10975d1d-e834-40e3-9797-a94b7b5c31f8",
   "metadata": {},
   "outputs": [
    {
     "data": {
      "application/vnd.jupyter.widget-view+json": {
       "model_id": "e54a5b5c5a9d4b228e2494b68dbf158f",
       "version_major": 2,
       "version_minor": 0
      },
      "text/plain": [
       "HBox(children=(Accordion(children=(Tree(nodes=(Node(icon_style='warning', name='databases'), Node(icon_style='…"
      ]
     },
     "execution_count": 14,
     "metadata": {},
     "output_type": "execute_result"
    }
   ],
   "source": [
    "from python.pyironflow import PyironFlow\n",
    "\n",
    "pf = PyironFlow([wf])\n",
    "pf.gui"
   ]
  },
  {
   "cell_type": "markdown",
   "id": "f1cfc2a4-9251-4b26-8a04-70638cee8863",
   "metadata": {},
   "source": [
    "### Use Lammps Macro"
   ]
  },
  {
   "cell_type": "code",
   "execution_count": 15,
   "id": "65bb2de4-2d11-495b-9eab-87c4369f448f",
   "metadata": {},
   "outputs": [
    {
     "data": {
      "application/json": {
       "checkpoint": "null",
       "executor": "null",
       "failed": "false",
       "future": "null",
       "inputs": {
        "delta_press": {
         "connections": "[]",
         "default": "null",
         "owner": "\"/InputCalcMD\"",
         "strict_hints": "true",
         "type_hint": "\"Optional[float]\"",
         "value": "null"
        },
        "delta_temp": {
         "connections": "[]",
         "default": "null",
         "owner": "\"/InputCalcMD\"",
         "strict_hints": "true",
         "type_hint": "\"Optional[float]\"",
         "value": "null"
        },
        "initial_temperature": {
         "connections": "[]",
         "default": "null",
         "owner": "\"/InputCalcMD\"",
         "strict_hints": "true",
         "type_hint": "\"Optional[float]\"",
         "value": "null"
        },
        "langevin": {
         "connections": "[]",
         "default": "false",
         "owner": "\"/InputCalcMD\"",
         "strict_hints": "true",
         "type_hint": "\"bool\"",
         "value": "false"
        },
        "n_ionic_steps": {
         "connections": "[]",
         "default": "10000",
         "owner": "\"/InputCalcMD\"",
         "strict_hints": "true",
         "type_hint": "\"int\"",
         "value": "10000"
        },
        "n_print": {
         "connections": "[]",
         "default": "100",
         "owner": "\"/InputCalcMD\"",
         "strict_hints": "true",
         "type_hint": "\"int\"",
         "value": "100"
        },
        "pressure": {
         "connections": "[]",
         "default": "null",
         "owner": "\"/InputCalcMD\"",
         "strict_hints": "true",
         "type_hint": "\"Optional[int | float]\"",
         "value": "null"
        },
        "pressure_damping_timescale": {
         "connections": "[]",
         "default": "1000.0",
         "owner": "\"/InputCalcMD\"",
         "strict_hints": "true",
         "type_hint": "\"Optional[int | float]\"",
         "value": "1000.0"
        },
        "seed": {
         "connections": "[]",
         "default": "null",
         "owner": "\"/InputCalcMD\"",
         "strict_hints": "true",
         "type_hint": "\"Optional[int]\"",
         "value": "null"
        },
        "temperature": {
         "connections": "[]",
         "default": "300",
         "owner": "\"/InputCalcMD\"",
         "strict_hints": "true",
         "type_hint": "\"Optional[int | float]\"",
         "value": "400"
        },
        "temperature_damping_timescale": {
         "connections": "[]",
         "default": "100.0",
         "owner": "\"/InputCalcMD\"",
         "strict_hints": "true",
         "type_hint": "\"Optional[int | float]\"",
         "value": "100.0"
        },
        "time_step": {
         "connections": "[]",
         "default": "1.0",
         "owner": "\"/InputCalcMD\"",
         "strict_hints": "true",
         "type_hint": "\"Optional[int | float]\"",
         "value": "1.0"
        },
        "tloop": {
         "connections": "[]",
         "default": "null",
         "owner": "\"/InputCalcMD\"",
         "strict_hints": "true",
         "type_hint": "\"Optional[float]\"",
         "value": "null"
        }
       },
       "outputs": {
        "dataclass": {
         "connections": "[]",
         "default": "\"NOT_DATA\"",
         "owner": "\"/InputCalcMD\"",
         "strict_hints": "true",
         "type_hint": "\"<class 'pyiron_nodes.atomistic.calculator.data.InputCalcMD.dataclass'>\"",
         "value": "\"NOT_DATA\""
        }
       },
       "running": "false",
       "signals": {
        "input": {
         "accumulate_and_run": {
          "connections": "[]",
          "owner": "\"/InputCalcMD\"",
          "received_signals": "\"set()\""
         },
         "run": {
          "connections": "[]",
          "owner": "\"/InputCalcMD\""
         }
        },
        "output": {
         "ran": {
          "connections": "[]",
          "owner": "\"/InputCalcMD\""
         }
        }
       }
      },
      "text/plain": [
       "<pyiron_nodes.atomistic.calculator.data.InputCalcMD at 0x15038be90>"
      ]
     },
     "execution_count": 15,
     "metadata": {},
     "output_type": "execute_result"
    }
   ],
   "source": [
    "from pyiron_nodes.atomistic.calculator.data import InputCalcMD\n",
    "InputCalcMD(temperature=400)"
   ]
  },
  {
   "cell_type": "code",
   "execution_count": 18,
   "id": "abdb76ab-f294-4918-a649-23b8639cc67d",
   "metadata": {},
   "outputs": [],
   "source": [
    "from dataclasses import asdict\n",
    "inp_calc_md = pn.atomistic.calculator.data.InputCalcMD(temperature=700)\n",
    "\n",
    "# Workflow.create.transformer.dataclass_node(inp_calc_md.__class__, label='my_node')() # (**asdict(inp_calc_md))"
   ]
  },
  {
   "cell_type": "code",
   "execution_count": 19,
   "id": "1389fde6-8b41-401a-9a13-cb5f726661fc",
   "metadata": {},
   "outputs": [
    {
     "data": {
      "image/png": "[encoded data removed]",
      "text/plain": [
       "<Figure size 640x480 with 1 Axes>"
      ]
     },
     "metadata": {},
     "output_type": "display_data"
    },
    {
     "data": {
      "text/plain": [
       "{'plot__axis': None}"
      ]
     },
     "execution_count": 19,
     "metadata": {},
     "output_type": "execute_result"
    }
   ],
   "source": [
    "wf = Workflow('lammps_macro')\n",
    "wf.bulk = pn.atomistic.structure.build.CubicBulkCell('Pb', cell_size=3)\n",
    "wf.inp_calc_md = pn.atomistic.calculator.data.InputCalcMD()\n",
    "wf.lammps = pn.atomistic.engine.lammps.Code(structure=wf.bulk, calculator=wf.inp_calc_md) \n",
    "wf.energies = pn.atomistic.engine.lammps.GetEnergyPot(generic=wf.lammps)\n",
    "wf.plot = pn.plotting.Plot(y=wf.energies)\n",
    "\n",
    "# wf.bulk.pull()\n",
    "# wf.lammps.Collect.pull() # works\n",
    "wf.run()"
   ]
  },
  {
   "cell_type": "code",
   "execution_count": 20,
   "id": "1cec4223-ff48-4f68-8017-c9f8bb0dbdd1",
   "metadata": {},
   "outputs": [
    {
     "data": {
      "application/vnd.jupyter.widget-view+json": {
       "model_id": "de60b8cb364a4f0085c879c56a10e8fd",
       "version_major": 2,
       "version_minor": 0
      },
      "text/plain": [
       "HBox(children=(Accordion(children=(Tree(nodes=(Node(icon_style='warning', name='databases'), Node(icon_style='…"
      ]
     },
     "execution_count": 20,
     "metadata": {},
     "output_type": "execute_result"
    }
   ],
   "source": [
    "pf = PyironFlow([wf])\n",
    "pf.gui"
   ]
  },
  {
   "cell_type": "code",
   "execution_count": 1,
   "id": "3f6b5180-b532-416b-a522-e3225d26d7b4",
   "metadata": {},
   "outputs": [],
   "source": [
    "# json.loads(pf.wf_widgets[0].gui.nodes)[1];\n",
    "\n",
    "from python.reactflow import get_node_types, _get_type_name, _get_generic_type\n",
    "import typing\n",
    "\n",
    "def get_node_types(node_io):\n",
    "    node_io_types = list()\n",
    "    for k in node_io.channel_dict:\n",
    "        type_hint = node_io[k].type_hint\n",
    "        # print (k, type(type_hint))\n",
    "        if isinstance(type_hint, typing._UnionGenericAlias):\n",
    "            # print (k, type_hint)\n",
    "            type_hint = _get_generic_type(type_hint)\n",
    "\n",
    "        node_io_types.append(_get_type_name(type_hint))\n",
    "    return node_io_types\n",
    "\n",
    "# wf.inp_calc_md.inputs.channel_dict['temperature'].type_hint"
   ]
  },
  {
   "cell_type": "code",
   "execution_count": 22,
   "id": "65bc56ae-c00b-49bc-979e-329dfc075a46",
   "metadata": {},
   "outputs": [],
   "source": [
    "get_node_types(wf.bulk.inputs), get_node_types(wf.inp_calc_md.inputs);"
   ]
  },
  {
   "cell_type": "code",
   "execution_count": 23,
   "id": "d43a553e-55c0-48dc-a497-58b0c7fa2939",
   "metadata": {},
   "outputs": [
    {
     "data": {
      "text/plain": [
       "typing.Optional[int]"
      ]
     },
     "execution_count": 23,
     "metadata": {},
     "output_type": "execute_result"
    }
   ],
   "source": [
    "wf.bulk.inputs.channel_dict['vacancy_index'].type_hint"
   ]
  },
  {
   "cell_type": "code",
   "execution_count": null,
   "id": "3720a967-0afb-4031-857e-d15323894f95",
   "metadata": {},
   "outputs": [],
   "source": [
    "def f(a:int=3):\n",
    "    return a"
   ]
  },
  {
   "cell_type": "code",
   "execution_count": null,
   "id": "e3c52948-23bb-491a-bbfd-bc19ea6aed05",
   "metadata": {},
   "outputs": [],
   "source": [
    "f.__annotations__"
   ]
  },
  {
   "cell_type": "code",
   "execution_count": null,
   "id": "de50c8d0-15a6-4ab4-8e2d-e4508fc94cfe",
   "metadata": {},
   "outputs": [],
   "source": [
    "def f(a, b, c: int=3):\n",
    "    return a"
   ]
  },
  {
   "cell_type": "code",
   "execution_count": null,
   "id": "6c51ff1d-b21a-4a1a-b931-c718603d0610",
   "metadata": {},
   "outputs": [],
   "source": [
    "from inspect import signature"
   ]
  },
  {
   "cell_type": "code",
   "execution_count": null,
   "id": "d7ebe47a-ad06-437e-a61b-55f488ab9225",
   "metadata": {},
   "outputs": [],
   "source": [
    "f'f{str(signature(f))}'"
   ]
  },
  {
   "cell_type": "code",
   "execution_count": null,
   "id": "13d65cb0-ab8c-4cf8-9d6f-ae4a6ade7ad0",
   "metadata": {},
   "outputs": [],
   "source": [
    "a = pn.atomistic.structure.build.CubicBulkCell"
   ]
  },
  {
   "cell_type": "code",
   "execution_count": null,
   "id": "6a42e293-fd79-4d3a-a998-17cdb2b4a7bc",
   "metadata": {},
   "outputs": [],
   "source": [
    "signature(a)"
   ]
  },
  {
   "cell_type": "code",
   "execution_count": null,
   "id": "bbd7e4f6-2564-45e5-b3e0-13b03a61d86e",
   "metadata": {},
   "outputs": [],
   "source": [
    "pf = PyironFlow([])\n",
    "pf.gui"
   ]
  },
  {
   "cell_type": "code",
   "execution_count": null,
   "id": "0523a057-4e1f-4644-92dd-b7603a63c4db",
   "metadata": {},
   "outputs": [],
   "source": [
    "wf = pf.get_workflow()\n",
    "wf"
   ]
  },
  {
   "cell_type": "code",
   "execution_count": null,
   "id": "2da70c93-17b7-44a1-a14f-4389558aa8e0",
   "metadata": {},
   "outputs": [],
   "source": [
    "pf = PyironFlow([wf])\n",
    "pf.gui"
   ]
  },
  {
   "cell_type": "code",
   "execution_count": 2,
   "id": "a4931165-be58-4355-9b9e-e7490633a326",
   "metadata": {},
   "outputs": [],
   "source": [
    "from python.reactflow import get_node_types, _get_type_name, _get_generic_type\n",
    "import typing\n",
    "\n",
    "def get_node_types(node_io):\n",
    "    node_io_types = list()\n",
    "    for k in node_io.channel_dict:\n",
    "        type_hint = node_io[k].type_hint\n",
    "        # print (k, type(type_hint))\n",
    "        if isinstance(type_hint, typing._UnionGenericAlias):\n",
    "            # print (k, type_hint)\n",
    "            type_hint = _get_generic_type(type_hint)\n",
    "\n",
    "        node_io_types.append(_get_type_name(type_hint))\n",
    "    return node_io_types"
   ]
  },
  {
   "cell_type": "code",
   "execution_count": 12,
   "id": "e5dbae22-6488-467b-9153-d944b69d80ef",
   "metadata": {},
   "outputs": [
    {
     "data": {
      "text/plain": [
       "\u001b[0;31mInit signature:\u001b[0m \u001b[0mInputCalcMD\u001b[0m\u001b[0;34m(\u001b[0m\u001b[0;34m)\u001b[0m\u001b[0;34m\u001b[0m\u001b[0;34m\u001b[0m\u001b[0m\n",
       "\u001b[0;31mDocstring:\u001b[0m      <no docstring>\n",
       "\u001b[0;31mType:\u001b[0m           type\n",
       "\u001b[0;31mSubclasses:\u001b[0m     "
      ]
     },
     "metadata": {},
     "output_type": "display_data"
    }
   ],
   "source": [
    "from pyiron_workflow import as_dataclass_node\n",
    "from typing import Optional\n",
    "\n",
    "# @as_dataclass_node\n",
    "class InputCalcMD:\n",
    "    temperature: Optional[int | float] = 300\n",
    "    n_ionic_steps: int = 10_000\n",
    "    n_print: int = 100\n",
    "    pressure: Optional[int | float] = None\n",
    "    time_step: Optional[int | float] = 1.0\n",
    "    temperature_damping_timescale: Optional[int | float] = 100.0\n",
    "    pressure_damping_timescale: Optional[int | float] = 1000.0\n",
    "    seed: Optional[int] = None\n",
    "    tloop: Optional[float] = None\n",
    "    initial_temperature: Optional[float] = None\n",
    "    langevin: bool = False\n",
    "    delta_temp: Optional[float] = None\n",
    "    delta_press: Optional[float] = None\n",
    "\n",
    "InputCalcMD??"
   ]
  },
  {
   "cell_type": "code",
   "execution_count": 4,
   "id": "30e6551f-aea7-46ea-b682-83e7f48fc564",
   "metadata": {},
   "outputs": [
    {
     "data": {
      "text/plain": [
       "['float',\n",
       " 'int',\n",
       " 'int',\n",
       " 'float',\n",
       " 'float',\n",
       " 'float',\n",
       " 'float',\n",
       " 'int',\n",
       " 'float',\n",
       " 'float',\n",
       " 'bool',\n",
       " 'float',\n",
       " 'float']"
      ]
     },
     "execution_count": 4,
     "metadata": {},
     "output_type": "execute_result"
    }
   ],
   "source": [
    "ic_md = InputCalcMD()\n",
    "get_node_types(ic_md.inputs)"
   ]
  },
  {
   "cell_type": "code",
   "execution_count": 13,
   "id": "5672af9f-9565-4a77-8f08-a060bc0ca546",
   "metadata": {},
   "outputs": [
    {
     "data": {
      "text/plain": [
       "['NonPrimitive',\n",
       " 'NonPrimitive',\n",
       " 'NonPrimitive',\n",
       " 'NonPrimitive',\n",
       " 'NonPrimitive',\n",
       " 'NonPrimitive',\n",
       " 'NonPrimitive',\n",
       " 'NonPrimitive',\n",
       " 'NonPrimitive',\n",
       " 'NonPrimitive',\n",
       " 'NonPrimitive',\n",
       " 'NonPrimitive',\n",
       " 'NonPrimitive']"
      ]
     },
     "execution_count": 13,
     "metadata": {},
     "output_type": "execute_result"
    }
   ],
   "source": [
    "from pyiron_nodes.atomistic.calculator.data import InputCalcMD\n",
    "\n",
    "ic_md = as_dataclass_node(InputCalcMD)()\n",
    "get_node_types(ic_md.inputs)"
   ]
  },
  {
   "cell_type": "code",
   "execution_count": 14,
   "id": "ab73a64c-e460-422c-a5ad-babf39b9efa1",
   "metadata": {},
   "outputs": [
    {
     "data": {
      "text/plain": [
       "\u001b[0;31mInit signature:\u001b[0m\n",
       "\u001b[0mInputCalcMD\u001b[0m\u001b[0;34m(\u001b[0m\u001b[0;34m\u001b[0m\n",
       "\u001b[0;34m\u001b[0m    \u001b[0mtemperature\u001b[0m\u001b[0;34m:\u001b[0m \u001b[0;34m'Optional[int | float]'\u001b[0m \u001b[0;34m=\u001b[0m \u001b[0;36m300\u001b[0m\u001b[0;34m,\u001b[0m\u001b[0;34m\u001b[0m\n",
       "\u001b[0;34m\u001b[0m    \u001b[0mn_ionic_steps\u001b[0m\u001b[0;34m:\u001b[0m \u001b[0;34m'int'\u001b[0m \u001b[0;34m=\u001b[0m \u001b[0;36m10000\u001b[0m\u001b[0;34m,\u001b[0m\u001b[0;34m\u001b[0m\n",
       "\u001b[0;34m\u001b[0m    \u001b[0mn_print\u001b[0m\u001b[0;34m:\u001b[0m \u001b[0;34m'int'\u001b[0m \u001b[0;34m=\u001b[0m \u001b[0;36m100\u001b[0m\u001b[0;34m,\u001b[0m\u001b[0;34m\u001b[0m\n",
       "\u001b[0;34m\u001b[0m    \u001b[0mpressure\u001b[0m\u001b[0;34m:\u001b[0m \u001b[0;34m'Optional[int | float]'\u001b[0m \u001b[0;34m=\u001b[0m \u001b[0;32mNone\u001b[0m\u001b[0;34m,\u001b[0m\u001b[0;34m\u001b[0m\n",
       "\u001b[0;34m\u001b[0m    \u001b[0mtime_step\u001b[0m\u001b[0;34m:\u001b[0m \u001b[0;34m'Optional[int | float]'\u001b[0m \u001b[0;34m=\u001b[0m \u001b[0;36m1.0\u001b[0m\u001b[0;34m,\u001b[0m\u001b[0;34m\u001b[0m\n",
       "\u001b[0;34m\u001b[0m    \u001b[0mtemperature_damping_timescale\u001b[0m\u001b[0;34m:\u001b[0m \u001b[0;34m'Optional[int | float]'\u001b[0m \u001b[0;34m=\u001b[0m \u001b[0;36m100.0\u001b[0m\u001b[0;34m,\u001b[0m\u001b[0;34m\u001b[0m\n",
       "\u001b[0;34m\u001b[0m    \u001b[0mpressure_damping_timescale\u001b[0m\u001b[0;34m:\u001b[0m \u001b[0;34m'Optional[int | float]'\u001b[0m \u001b[0;34m=\u001b[0m \u001b[0;36m1000.0\u001b[0m\u001b[0;34m,\u001b[0m\u001b[0;34m\u001b[0m\n",
       "\u001b[0;34m\u001b[0m    \u001b[0mseed\u001b[0m\u001b[0;34m:\u001b[0m \u001b[0;34m'Optional[int]'\u001b[0m \u001b[0;34m=\u001b[0m \u001b[0;32mNone\u001b[0m\u001b[0;34m,\u001b[0m\u001b[0;34m\u001b[0m\n",
       "\u001b[0;34m\u001b[0m    \u001b[0mtloop\u001b[0m\u001b[0;34m:\u001b[0m \u001b[0;34m'Optional[float]'\u001b[0m \u001b[0;34m=\u001b[0m \u001b[0;32mNone\u001b[0m\u001b[0;34m,\u001b[0m\u001b[0;34m\u001b[0m\n",
       "\u001b[0;34m\u001b[0m    \u001b[0minitial_temperature\u001b[0m\u001b[0;34m:\u001b[0m \u001b[0;34m'Optional[float]'\u001b[0m \u001b[0;34m=\u001b[0m \u001b[0;32mNone\u001b[0m\u001b[0;34m,\u001b[0m\u001b[0;34m\u001b[0m\n",
       "\u001b[0;34m\u001b[0m    \u001b[0mlangevin\u001b[0m\u001b[0;34m:\u001b[0m \u001b[0;34m'bool'\u001b[0m \u001b[0;34m=\u001b[0m \u001b[0;32mFalse\u001b[0m\u001b[0;34m,\u001b[0m\u001b[0;34m\u001b[0m\n",
       "\u001b[0;34m\u001b[0m    \u001b[0mdelta_temp\u001b[0m\u001b[0;34m:\u001b[0m \u001b[0;34m'Optional[float]'\u001b[0m \u001b[0;34m=\u001b[0m \u001b[0;32mNone\u001b[0m\u001b[0;34m,\u001b[0m\u001b[0;34m\u001b[0m\n",
       "\u001b[0;34m\u001b[0m    \u001b[0mdelta_press\u001b[0m\u001b[0;34m:\u001b[0m \u001b[0;34m'Optional[float]'\u001b[0m \u001b[0;34m=\u001b[0m \u001b[0;32mNone\u001b[0m\u001b[0;34m,\u001b[0m\u001b[0;34m\u001b[0m\n",
       "\u001b[0;34m\u001b[0m\u001b[0;34m)\u001b[0m \u001b[0;34m->\u001b[0m \u001b[0;32mNone\u001b[0m\u001b[0;34m\u001b[0m\u001b[0;34m\u001b[0m\u001b[0m\n",
       "\u001b[0;31mDocstring:\u001b[0m      InputCalcMD(temperature: 'Optional[int | float]' = 300, n_ionic_steps: 'int' = 10000, n_print: 'int' = 100, pressure: 'Optional[int | float]' = None, time_step: 'Optional[int | float]' = 1.0, temperature_damping_timescale: 'Optional[int | float]' = 100.0, pressure_damping_timescale: 'Optional[int | float]' = 1000.0, seed: 'Optional[int]' = None, tloop: 'Optional[float]' = None, initial_temperature: 'Optional[float]' = None, langevin: 'bool' = False, delta_temp: 'Optional[float]' = None, delta_press: 'Optional[float]' = None)\n",
       "\u001b[0;31mFile:\u001b[0m           ~/python_projects/git_libs/pyiron_nodes/pyiron_nodes/atomistic/calculator/data.py\n",
       "\u001b[0;31mType:\u001b[0m           type\n",
       "\u001b[0;31mSubclasses:\u001b[0m     "
      ]
     },
     "metadata": {},
     "output_type": "display_data"
    }
   ],
   "source": [
    "InputCalcMD??"
   ]
  },
  {
   "cell_type": "code",
   "execution_count": null,
   "id": "fb6ddd9c-0d11-49d7-9a68-1c8af9fb0fd8",
   "metadata": {},
   "outputs": [],
   "source": [
    "pn.atomistic.engine.lammps.SetInputCalcMD().color"
   ]
  },
  {
   "cell_type": "code",
   "execution_count": null,
   "id": "7106d1fc-dd5d-4502-84ad-46fa7e93dee5",
   "metadata": {},
   "outputs": [],
   "source": [
    "type(pn.atomistic.calculator.data.InputCalcMD().run())"
   ]
  },
  {
   "cell_type": "code",
   "execution_count": null,
   "id": "dd7afe61-547a-4c3b-8c41-443efa405d32",
   "metadata": {},
   "outputs": [],
   "source": [
    "isinstance(pn.atomistic.calculator.data.InputCalcMD().run(), pyiron_nodes.atomistic.calculator.data.InputCalcMD.dataclass)"
   ]
  },
  {
   "cell_type": "code",
   "execution_count": null,
   "id": "1df26dc5-3d25-4ccf-b9f8-53eedbd0f1b5",
   "metadata": {},
   "outputs": [],
   "source": []
  }
 ],
 "metadata": {
  "kernelspec": {
   "display_name": "Python 3 (ipykernel)",
   "language": "python",
   "name": "python3"
  },
  "language_info": {
   "codemirror_mode": {
    "name": "ipython",
    "version": 3
   },
   "file_extension": ".py",
   "mimetype": "text/x-python",
   "name": "python",
   "nbconvert_exporter": "python",
   "pygments_lexer": "ipython3",
   "version": "3.12.4"
  }
 },
 "nbformat": 4,
 "nbformat_minor": 5
}
