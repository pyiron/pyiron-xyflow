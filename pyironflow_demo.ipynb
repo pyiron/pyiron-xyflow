{
 "cells": [
  {
   "cell_type": "markdown",
   "id": "e685173d-686c-489a-bbb4-eedef29fbba3",
   "metadata": {},
   "source": [
    "# PyironFlow demo"
   ]
  },
  {
   "cell_type": "markdown",
   "id": "e10399f6-5f0c-426c-9dfc-8ecc2fc59354",
   "metadata": {},
   "source": [
    "Uncomment the following line if you have edited the .js files"
   ]
  },
  {
   "cell_type": "code",
   "execution_count": 5,
   "id": "6b50621c-5611-4869-a758-1404ec9ea67a",
   "metadata": {},
   "outputs": [],
   "source": [
    "# !npx esbuild js/widget.jsx --minify --format=esm --bundle --outdir=static"
   ]
  },
  {
   "cell_type": "code",
   "execution_count": 6,
   "id": "3be83a1e-f2b0-4d54-91b2-34b39a903c65",
   "metadata": {},
   "outputs": [],
   "source": [
    "%config IPCompleter.evaluation='unsafe'\n",
    "\n",
    "import sys\n",
    "from pathlib import Path\n",
    "sys.path.insert(0, str(Path(Path.cwd()).parent) + '/pyiron_nodes')"
   ]
  },
  {
   "cell_type": "code",
   "execution_count": 7,
   "id": "dbc017d4-7c5f-48df-a105-e75904a4ed53",
   "metadata": {},
   "outputs": [],
   "source": [
    "from pyiron_workflow import Workflow   \n",
    "\n",
    "Workflow.register(\"pyiron_nodes.atomistic\", \"atomistic\") \n",
    "\n",
    "wf = Workflow('compute_elastic_constants')\n",
    "wf.engine = wf.create.atomistic.engine.ase.M3GNet()\n",
    "wf.bulk = wf.create.atomistic.structure.build.bulk('Pb', cubic=True)\n",
    "wf.elastic = wf.create.atomistic.property.elastic.elastic_constants(structure=wf.bulk, engine=wf.engine) #, parameters=parameters)\n",
    "\n",
    "# wf.elastic.pull()"
   ]
  },
  {
   "cell_type": "code",
   "execution_count": 9,
   "id": "813d8693-da0b-42ab-9534-0818cdf34411",
   "metadata": {},
   "outputs": [
    {
     "data": {
      "application/vnd.jupyter.widget-view+json": {
       "model_id": "e7ff770f2af44ca08772de7ec67cfd91",
       "version_major": 2,
       "version_minor": 0
      },
      "text/plain": [
       "HBox(children=(Accordion(children=(Tree(nodes=(Node(icon_style='warning', name='databases'), Node(icon_style='…"
      ]
     },
     "execution_count": 9,
     "metadata": {},
     "output_type": "execute_result"
    }
   ],
   "source": [
    "from python.pyironflow import PyironFlow\n",
    "\n",
    "pf = PyironFlow([wf])\n",
    "pf.gui"
   ]
  },
  {
   "cell_type": "markdown",
   "id": "3c7cf4ac-7bdc-4cdf-9d7b-2d22ec4c5297",
   "metadata": {},
   "source": [
    "### Some extra features"
   ]
  },
  {
   "cell_type": "markdown",
   "id": "17dd3816-b2bb-45e2-873a-ff49f4ce1fee",
   "metadata": {},
   "source": [
    "#### Get the nodes from the gui"
   ]
  },
  {
   "cell_type": "code",
   "execution_count": 4,
   "id": "fc5d0e67-bb6f-493b-a59d-2234522af360",
   "metadata": {},
   "outputs": [],
   "source": [
    "import json\n",
    "json.loads(pf.wf_widgets[0].gui.nodes);"
   ]
  },
  {
   "cell_type": "markdown",
   "id": "55fd11ed-1567-4a12-8054-c557cf289725",
   "metadata": {},
   "source": [
    "#### Show the workflow widget from tab_0"
   ]
  },
  {
   "cell_type": "code",
   "execution_count": null,
   "id": "a6047623-934c-4339-953c-42ec4728f6e7",
   "metadata": {},
   "outputs": [],
   "source": [
    "pf.wf_widgets[0].gui"
   ]
  },
  {
   "cell_type": "markdown",
   "id": "0d46cdb7-cc6a-45ea-84bc-11537afe43eb",
   "metadata": {},
   "source": [
    "#### Get the current workflow from the gui and visualize it (test completeness of switching between graphical and programmatic representation)"
   ]
  },
  {
   "cell_type": "code",
   "execution_count": null,
   "id": "9e7a9e47-ca0d-4976-b257-3533f1c33957",
   "metadata": {},
   "outputs": [],
   "source": [
    "wf = pf.get_workflow()\n",
    "\n",
    "pf = PyironFlow([wf])\n",
    "pf.gui"
   ]
  }
 ],
 "metadata": {
  "kernelspec": {
   "display_name": "Python 3 (ipykernel)",
   "language": "python",
   "name": "python3"
  },
  "language_info": {
   "codemirror_mode": {
    "name": "ipython",
    "version": 3
   },
   "file_extension": ".py",
   "mimetype": "text/x-python",
   "name": "python",
   "nbconvert_exporter": "python",
   "pygments_lexer": "ipython3",
   "version": "3.12.4"
  }
 },
 "nbformat": 4,
 "nbformat_minor": 5
}
