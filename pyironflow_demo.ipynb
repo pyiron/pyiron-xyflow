{
 "cells": [
  {
   "cell_type": "markdown",
   "id": "e685173d-686c-489a-bbb4-eedef29fbba3",
   "metadata": {},
   "source": [
    "# PyironFlow demo"
   ]
  },
  {
   "cell_type": "markdown",
   "id": "e10399f6-5f0c-426c-9dfc-8ecc2fc59354",
   "metadata": {},
   "source": [
    "Uncomment the following line if you have edited the .js files"
   ]
  },
  {
   "cell_type": "code",
   "execution_count": 1,
   "id": "6b50621c-5611-4869-a758-1404ec9ea67a",
   "metadata": {},
   "outputs": [],
   "source": [
    "# !npx esbuild js/widget.jsx --minify --format=esm --bundle --outdir=static"
   ]
  },
  {
   "cell_type": "code",
   "execution_count": 2,
   "id": "3be83a1e-f2b0-4d54-91b2-34b39a903c65",
   "metadata": {},
   "outputs": [],
   "source": [
    "%config IPCompleter.evaluation='unsafe'\n",
    "\n",
    "import sys\n",
    "from pathlib import Path\n",
    "sys.path.insert(0, str(Path(Path.cwd()).parent) + '/pyiron_nodes')"
   ]
  },
  {
   "cell_type": "markdown",
   "id": "5e556f67-d269-47be-9d23-bb50710b50c4",
   "metadata": {},
   "source": [
    "## Elastic constants"
   ]
  },
  {
   "cell_type": "code",
   "execution_count": 3,
   "id": "dbc017d4-7c5f-48df-a105-e75904a4ed53",
   "metadata": {},
   "outputs": [
    {
     "data": {
      "application/vnd.jupyter.widget-view+json": {
       "model_id": "823b203b1ad74779b32158f5d08ef559",
       "version_major": 2,
       "version_minor": 0
      },
      "text/plain": []
     },
     "metadata": {},
     "output_type": "display_data"
    }
   ],
   "source": [
    "from pyiron_workflow import Workflow   \n",
    "\n",
    "import pyiron_nodes as pn\n",
    "\n",
    "wf = Workflow('compute_elastic_constants')\n",
    "wf.engine = pn.atomistic.engine.ase.M3GNet()\n",
    "wf.bulk = pn.atomistic.structure.build.Bulk('Pb', cubic=True)\n",
    "wf.elastic = pn.atomistic.property.elastic.ElasticConstants(structure=wf.bulk, engine=wf.engine) #, parameters=parameters)\n",
    "\n",
    "# wf.elastic.pull()"
   ]
  },
  {
   "cell_type": "code",
   "execution_count": 4,
   "id": "813d8693-da0b-42ab-9534-0818cdf34411",
   "metadata": {},
   "outputs": [
    {
     "data": {
      "application/vnd.jupyter.widget-view+json": {
       "model_id": "2e73c656117946b2a8263d9437369e03",
       "version_major": 2,
       "version_minor": 0
      },
      "text/plain": [
       "HBox(children=(Accordion(children=(Tree(nodes=(Node(icon_style='warning', name='databases'), Node(icon_style='…"
      ]
     },
     "execution_count": 4,
     "metadata": {},
     "output_type": "execute_result"
    }
   ],
   "source": [
    "from python.pyironflow import PyironFlow\n",
    "\n",
    "pf = PyironFlow([wf])\n",
    "pf.gui"
   ]
  },
  {
   "cell_type": "markdown",
   "id": "3c7cf4ac-7bdc-4cdf-9d7b-2d22ec4c5297",
   "metadata": {},
   "source": [
    "### Some extra features"
   ]
  },
  {
   "cell_type": "markdown",
   "id": "17dd3816-b2bb-45e2-873a-ff49f4ce1fee",
   "metadata": {},
   "source": [
    "#### Get the nodes from the gui"
   ]
  },
  {
   "cell_type": "code",
   "execution_count": 5,
   "id": "fc5d0e67-bb6f-493b-a59d-2234522af360",
   "metadata": {},
   "outputs": [],
   "source": [
    "import json\n",
    "json.loads(pf.wf_widgets[0].gui.nodes);"
   ]
  },
  {
   "cell_type": "markdown",
   "id": "55fd11ed-1567-4a12-8054-c557cf289725",
   "metadata": {},
   "source": [
    "#### Show the workflow widget from tab_0"
   ]
  },
  {
   "cell_type": "code",
   "execution_count": 6,
   "id": "a6047623-934c-4339-953c-42ec4728f6e7",
   "metadata": {},
   "outputs": [
    {
     "data": {
      "application/vnd.jupyter.widget-view+json": {
       "model_id": "f00d0b2544c043d6bad3501684c92d66",
       "version_major": 2,
       "version_minor": 1
      },
      "text/plain": [
       "ReactFlowWidget(edges='[{\"source\": \"engine\", \"sourceHandle\": \"engine\", \"target\": \"elastic\", \"targetHandle\": \"e…"
      ]
     },
     "execution_count": 6,
     "metadata": {},
     "output_type": "execute_result"
    }
   ],
   "source": [
    "pf.wf_widgets[0].gui"
   ]
  },
  {
   "cell_type": "markdown",
   "id": "0d46cdb7-cc6a-45ea-84bc-11537afe43eb",
   "metadata": {},
   "source": [
    "#### Get the current workflow from the gui and visualize it (test completeness of switching between graphical and programmatic representation)"
   ]
  },
  {
   "cell_type": "code",
   "execution_count": 7,
   "id": "9e7a9e47-ca0d-4976-b257-3533f1c33957",
   "metadata": {},
   "outputs": [
    {
     "data": {
      "application/vnd.jupyter.widget-view+json": {
       "model_id": "d5c3a454217f486e81c1e37b43cacfa3",
       "version_major": 2,
       "version_minor": 0
      },
      "text/plain": [
       "HBox(children=(Accordion(children=(Tree(nodes=(Node(icon_style='warning', name='databases'), Node(icon_style='…"
      ]
     },
     "execution_count": 7,
     "metadata": {},
     "output_type": "execute_result"
    }
   ],
   "source": [
    "wf = pf.get_workflow()\n",
    "\n",
    "pf = PyironFlow([wf])\n",
    "pf.gui"
   ]
  },
  {
   "cell_type": "markdown",
   "id": "6b478083-a50a-42c9-8556-a0fb556f9b4d",
   "metadata": {},
   "source": [
    "## Phonons"
   ]
  },
  {
   "cell_type": "code",
   "execution_count": 8,
   "id": "6e64336b-18c5-444e-a8a1-24357a2b46f2",
   "metadata": {},
   "outputs": [],
   "source": [
    "from pyiron_workflow import Workflow   \n",
    "\n",
    "import pyiron_nodes as pn\n",
    "\n",
    "wf = Workflow('phonons')\n",
    "wf.engine = pn.atomistic.engine.ase.M3GNet()\n",
    "wf.bulk = pn.atomistic.structure.build.CubicBulkCell('Pb', cell_size=3)\n",
    "wf.phonopy = pn.atomistic.property.phonons.CreatePhonopy(structure=wf.bulk, engine=wf.engine) #, parameters=parameters)\n",
    "wf.dos = pn.atomistic.property.phonons.GetTotalDos(phonopy=wf.phonopy.outputs.phonopy)\n",
    "# wf.plot = pn.\n",
    "\n",
    "# wf.run()\n"
   ]
  },
  {
   "cell_type": "code",
   "execution_count": 9,
   "id": "051bed2f-6100-4ee4-95e5-f70aa38f56cb",
   "metadata": {},
   "outputs": [
    {
     "data": {
      "application/vnd.jupyter.widget-view+json": {
       "model_id": "065614d062984f36934ef09867d8b41d",
       "version_major": 2,
       "version_minor": 0
      },
      "text/plain": [
       "HBox(children=(Accordion(children=(Tree(nodes=(Node(icon_style='warning', name='databases'), Node(icon_style='…"
      ]
     },
     "execution_count": 9,
     "metadata": {},
     "output_type": "execute_result"
    }
   ],
   "source": [
    "pf = PyironFlow([wf])\n",
    "pf.gui"
   ]
  },
  {
   "cell_type": "markdown",
   "id": "b7de4906-4a23-4d40-8913-755e1d9ae862",
   "metadata": {},
   "source": [
    "## Built Lammps workflow from scratch"
   ]
  },
  {
   "cell_type": "code",
   "execution_count": 10,
   "id": "a7f0ced8-a876-421c-b384-500fcc946103",
   "metadata": {},
   "outputs": [],
   "source": [
    "from pyiron_workflow import Workflow   \n",
    "import pyiron_nodes as pn\n"
   ]
  },
  {
   "cell_type": "code",
   "execution_count": 38,
   "id": "2846592e-3e95-4064-8c9f-fa21a455d3a2",
   "metadata": {},
   "outputs": [],
   "source": [
    "wf = Workflow('Lammps')\n",
    "wf.structure = pn.atomistic.structure.build.Bulk('Al', cubic=True)\n",
    "wf.repeat = pn.atomistic.structure.transform.Repeat(structure=wf.structure, repeat_scalar=3)\n",
    "\n",
    "wf.calculator = pn.lammps.CalcMD() # temperature=300, n_ionic_steps=10_000)\n",
    "wf.potential = pn.atomistic.engine.lammps.Potential(\n",
    "    structure=wf.structure, name='1995--Angelo-J-E--Ni-Al-H--LAMMPS--ipr1'\n",
    ")\n",
    "\n",
    "wf.init_lammps = pn.atomistic.engine.lammps.InitLammps(\n",
    "        structure=wf.repeat,\n",
    "        potential=wf.potential,\n",
    "        calculator=wf.calculator,\n",
    "        working_directory=\"test2\",\n",
    "    )\n",
    "\n",
    "wf.shell = pn.atomistic.engine.lammps.Shell(\n",
    "        # command=ExecutablePathResolver(module=\"lammps\", code=\"lammps\").path(),\n",
    "        working_directory=wf.init_lammps,\n",
    "    )\n",
    "\n",
    "wf.ParseLogFile = pn.atomistic.engine.lammps.ParseLogFile(\n",
    "    log_file=wf.shell.outputs.log\n",
    ")\n",
    "wf.ParseDumpFile = pn.atomistic.engine.lammps.ParseDumpFile(\n",
    "    dump_file=wf.shell.outputs.dump\n",
    ")\n",
    "wf.Collect = pn.atomistic.engine.lammps.Collect(\n",
    "    out_dump=wf.ParseDumpFile.outputs.dump,\n",
    "    out_log=wf.ParseLogFile.outputs.log,\n",
    "    calc_mode='md',\n",
    ")\n",
    "\n",
    "wf.get_energy_pot = pn.atomistic.engine.lammps.GetEnergyPot(generic=wf.Collect)\n",
    "\n",
    "out = wf.run()"
   ]
  },
  {
   "cell_type": "code",
   "execution_count": 12,
   "id": "64a70d90-410c-4079-a7c4-b5d123e06306",
   "metadata": {},
   "outputs": [
    {
     "data": {
      "text/plain": [
       "array([-362.87999968, -358.5129855 , -358.4579939 , -358.31296039,\n",
       "       -358.55784106, -359.02478623, -358.31887295, -358.83137511,\n",
       "       -358.65856012])"
      ]
     },
     "execution_count": 12,
     "metadata": {},
     "output_type": "execute_result"
    }
   ],
   "source": [
    "wf.get_energy_pot.pull()[0:-1]"
   ]
  },
  {
   "cell_type": "code",
   "execution_count": 13,
   "id": "10975d1d-e834-40e3-9797-a94b7b5c31f8",
   "metadata": {},
   "outputs": [
    {
     "data": {
      "application/vnd.jupyter.widget-view+json": {
       "model_id": "89722ffd66ae41939158c447301696ea",
       "version_major": 2,
       "version_minor": 0
      },
      "text/plain": [
       "HBox(children=(Accordion(children=(Tree(nodes=(Node(icon_style='warning', name='databases'), Node(icon_style='…"
      ]
     },
     "execution_count": 13,
     "metadata": {},
     "output_type": "execute_result"
    }
   ],
   "source": [
    "from python.pyironflow import PyironFlow\n",
    "\n",
    "pf = PyironFlow([wf])\n",
    "pf.gui"
   ]
  },
  {
   "cell_type": "markdown",
   "id": "f1cfc2a4-9251-4b26-8a04-70638cee8863",
   "metadata": {},
   "source": [
    "### Use Lammps Macro"
   ]
  },
  {
   "cell_type": "code",
   "execution_count": 39,
   "id": "1389fde6-8b41-401a-9a13-cb5f726661fc",
   "metadata": {},
   "outputs": [
    {
     "name": "stdout",
     "output_type": "stream",
     "text": [
      "Lammps:  structure (UserInput):\n",
      "Inputs ['user_input']\n",
      "OutputsWithInjection ['user_input']\n",
      "InputSignals ['run', 'accumulate_and_run']\n",
      "OutputSignals ['ran']\n"
     ]
    },
    {
     "data": {
      "text/plain": [
       "{'lammps__generic': OutputCalcMD(energies_pot=array([-218.981703]), energies_kin=array([0.]), forces=array([[[-3.33066907e-16, -2.87964097e-16, -3.81639165e-16],\n",
       "         [-4.99600361e-16, -2.79290480e-16, -5.53376789e-16],\n",
       "         [-3.98986399e-16, -5.68989300e-16, -4.64905892e-16],\n",
       "         [-3.08780779e-16, -3.08780779e-16, -6.52256027e-16],\n",
       "         [-4.30211422e-16, -4.51028104e-16, -3.81329587e-16],\n",
       "         [-2.91433544e-16, -3.07046055e-16,  7.45931095e-17],\n",
       "         [-2.53269627e-16, -3.88578059e-16,  1.75207071e-16],\n",
       "         [-4.02455846e-16, -4.09394740e-16, -2.75052213e-16],\n",
       "         [-1.66533454e-16, -1.68268177e-16,  4.80043602e-16],\n",
       "         [-1.94289029e-16, -2.44596010e-16,  7.97972799e-16],\n",
       "         [-2.70616862e-16, -1.59594560e-16,  6.17561557e-16],\n",
       "         [-3.71230824e-16, -3.46944695e-16,  5.71248297e-16],\n",
       "         [-3.46944695e-16, -1.91268946e-16, -4.05925293e-16],\n",
       "         [-3.12250226e-16, -1.78676518e-16, -4.37150316e-16],\n",
       "         [-5.34294831e-16,  4.23826640e-18, -4.96130914e-16],\n",
       "         [-2.18575158e-16, -1.72244070e-16, -3.74700271e-16],\n",
       "         [-4.44089210e-16, -1.29069448e-16, -4.61988661e-16],\n",
       "         [-2.35922393e-16, -1.59594560e-16, -1.14491749e-16],\n",
       "         [-3.43475248e-16, -1.78102855e-16,  1.69044946e-16],\n",
       "         [-4.02455846e-16,  2.37618552e-17, -3.33057029e-16],\n",
       "         [-2.63677968e-16, -3.23857210e-16,  5.88822487e-16],\n",
       "         [-3.46944695e-17, -3.59087760e-16,  7.97972799e-16],\n",
       "         [-4.85722573e-16, -3.59923559e-16,  6.50775253e-16],\n",
       "         [-2.84494650e-16, -1.21759760e-16,  4.34985768e-16],\n",
       "         [-1.94289029e-16,  2.89224020e-16, -2.02962647e-16],\n",
       "         [-2.77555756e-16,  6.50521303e-16, -3.62557206e-16],\n",
       "         [-4.05925293e-16,  3.76959268e-16, -3.46944695e-16],\n",
       "         [-4.26741975e-16,  6.80011603e-16, -2.65412692e-16],\n",
       "         [-3.19189120e-16,  3.94194226e-16, -4.99957421e-16],\n",
       "         [-2.42861287e-16,  6.80011603e-16, -2.16840434e-16],\n",
       "         [-2.42861287e-16,  3.64837887e-16, -3.56524238e-17],\n",
       "         [-3.64291930e-16,  5.65519853e-16, -3.59087760e-16],\n",
       "         [-1.11022302e-16,  2.89460296e-16,  4.53427320e-16],\n",
       "         [ 6.24500451e-17,  8.03176969e-16,  8.17054757e-16],\n",
       "         [-2.74086309e-16,  3.25676505e-16,  6.58885086e-16],\n",
       "         [-2.46330734e-16,  6.55725474e-16,  3.27862737e-16],\n",
       "         [-2.36371756e-16, -3.19189120e-16, -5.04804532e-16],\n",
       "         [-2.07618931e-16, -4.05925293e-16, -4.64905892e-16],\n",
       "         [-6.91364433e-17, -3.88578059e-16, -4.11129464e-16],\n",
       "         [-1.20202366e-16, -2.56739074e-16, -3.88578059e-16],\n",
       "         [-3.11215413e-16, -5.41233725e-16, -3.48472693e-16],\n",
       "         [-2.05103582e-16, -4.02455846e-16,  1.04101236e-16],\n",
       "         [-1.22717715e-16, -3.74700271e-16, -3.46944695e-18],\n",
       "         [-3.79292484e-17, -4.61436445e-16, -3.42142644e-16],\n",
       "         [-4.12328108e-16, -2.77555756e-16,  5.59679133e-16],\n",
       "         [-5.09525868e-16, -3.40005801e-16,  6.85469723e-16],\n",
       "         [-2.81683437e-16, -8.32667268e-17,  6.52256027e-16],\n",
       "         [-6.54896676e-17, -3.33066907e-16,  4.29781598e-16],\n",
       "         [-2.82679212e-16, -1.59951619e-16, -4.44089210e-16],\n",
       "         [-2.72020541e-16, -7.11058349e-17, -4.99600361e-16],\n",
       "         [ 4.53374785e-17, -1.70405020e-16, -4.26741975e-16],\n",
       "         [-2.68434487e-16, -2.67675545e-16, -2.49800181e-16],\n",
       "         [-2.57271298e-16, -2.75288573e-17, -3.52208133e-16],\n",
       "         [-2.37933224e-16, -1.35507444e-16,  1.53571070e-18],\n",
       "         [-3.39177003e-17, -2.57683294e-16,  1.53571070e-18],\n",
       "         [-1.40494774e-16,  4.24101326e-17, -3.78354996e-16],\n",
       "         [-4.08062136e-16, -2.53671746e-16,  5.06773923e-16],\n",
       "         [-4.03924577e-16, -2.03920601e-16,  7.12683198e-16],\n",
       "         [-6.81784890e-17, -3.65669831e-16,  6.58342985e-16],\n",
       "         [-1.63263020e-16, -7.65268457e-17,  4.44288223e-16],\n",
       "         [-3.59657566e-16,  2.93637604e-16, -2.63677968e-16],\n",
       "         [-2.93574480e-16,  6.50211468e-16, -3.01841885e-16],\n",
       "         [-1.26963931e-16,  3.69825217e-16, -2.42861287e-16],\n",
       "         [-1.38135070e-16,  7.00828284e-16,  1.73472348e-18],\n",
       "         [-2.93700491e-16,  3.92658515e-16, -4.09670848e-16],\n",
       "         [-1.14897962e-16,  7.27731924e-16, -1.61116299e-16],\n",
       "         [-4.53018231e-17,  4.54696563e-16, -1.02547698e-16],\n",
       "         [-8.10804948e-17,  5.96744876e-16, -2.49800181e-16],\n",
       "         [-4.23110862e-16,  3.50743259e-16,  4.47229540e-16],\n",
       "         [-5.41726673e-16,  7.21682076e-16,  6.99130670e-16],\n",
       "         [-2.27577892e-16,  2.43190404e-16,  5.41140730e-16],\n",
       "         [-1.92883423e-16,  6.07153217e-16,  6.07153217e-17],\n",
       "         [ 3.16979596e-16, -1.94289029e-16, -3.20923843e-16],\n",
       "         [ 4.42805995e-16, -2.77555756e-16, -4.40619763e-16],\n",
       "         [ 7.07767178e-16, -2.86229374e-16, -3.41740525e-16],\n",
       "         [ 7.12971349e-16, -3.98986399e-16, -3.55618313e-16],\n",
       "         [ 4.90362959e-16, -4.44089210e-16, -3.73322607e-16],\n",
       "         [ 2.24013996e-16, -3.67761377e-16,  3.37365152e-17],\n",
       "         [ 6.15826834e-16, -2.02962647e-16, -1.52655666e-16],\n",
       "         [ 7.14706072e-16, -4.33680869e-16, -3.81639165e-16],\n",
       "         [ 3.29358936e-16, -1.66533454e-16,  4.58631490e-16],\n",
       "         [ 4.24678135e-16, -1.87350135e-16,  6.86640661e-16],\n",
       "         [ 7.99707522e-16,  1.64798730e-16,  7.26849136e-16],\n",
       "         [ 7.25114413e-16, -2.42861287e-16,  4.51028104e-16],\n",
       "         [ 3.91895717e-16, -2.91985760e-16, -3.05311332e-16],\n",
       "         [ 3.87078003e-16, -1.33555880e-16, -3.67761377e-16],\n",
       "         [ 7.12971349e-16, -2.55004351e-16, -4.30211422e-16],\n",
       "         [ 6.73072709e-16, -1.74564263e-16, -9.54097912e-17],\n",
       "         [ 4.72455795e-16, -1.25432313e-16, -4.12164513e-16],\n",
       "         [ 2.90887586e-16,  2.06176689e-17, -6.78532283e-17],\n",
       "         [ 6.03683770e-16, -3.08780779e-16, -3.44814855e-17],\n",
       "         [ 7.28583860e-16, -1.96062317e-17, -3.78169718e-16],\n",
       "         [ 4.44071382e-16, -3.50252476e-16,  4.74985115e-16],\n",
       "         [ 2.41339547e-16, -2.68669155e-16,  6.40995750e-16],\n",
       "         [ 7.96238075e-16, -5.10008702e-16,  6.89698111e-16],\n",
       "         [ 6.43582410e-16, -2.56309250e-16,  2.86229374e-16],\n",
       "         [ 3.60800799e-16,  2.95350643e-16, -1.24900090e-16],\n",
       "         [ 3.87923681e-16,  6.00663429e-16, -1.21430643e-16],\n",
       "         [ 7.30318583e-16,  3.52148866e-16, -2.11636264e-16],\n",
       "         [ 7.49400542e-16,  7.51135265e-16,  1.56125113e-16],\n",
       "         [ 4.06536303e-16,  3.92658515e-16, -3.85384720e-16],\n",
       "         [ 1.51155611e-16,  5.43851235e-16, -2.58260814e-16],\n",
       "         [ 4.80518403e-16,  3.15719673e-16, -2.66175490e-16],\n",
       "         [ 6.40112963e-16,  6.40112963e-16, -5.41233725e-16],\n",
       "         [ 3.18412350e-16,  3.17436568e-16,  3.17472224e-16],\n",
       "         [ 2.77226639e-16,  6.45549399e-16,  5.74425737e-16],\n",
       "         [ 6.99093561e-16,  1.57859836e-16,  6.71570251e-16],\n",
       "         [ 6.38378239e-16,  7.02563008e-16,  1.89084859e-16]]]), positions=None, temperatures=None)}"
      ]
     },
     "execution_count": 39,
     "metadata": {},
     "output_type": "execute_result"
    }
   ],
   "source": [
    "wf = Workflow('lammps_macro')\n",
    "wf.bulk = pn.atomistic.structure.build.CubicBulkCell('Pb', cell_size=3)\n",
    "wf.lammps = pn.atomistic.engine.lammps.Code(structure=wf.bulk)\n",
    "\n",
    "wf.bulk.pull()\n",
    "wf.lammps.Collect.pull() # works\n",
    "wf.run() # does not work when previous line is commented out"
   ]
  },
  {
   "cell_type": "code",
   "execution_count": 40,
   "id": "1cec4223-ff48-4f68-8017-c9f8bb0dbdd1",
   "metadata": {},
   "outputs": [
    {
     "data": {
      "application/vnd.jupyter.widget-view+json": {
       "model_id": "758edb16c51c4a149f5879949f658713",
       "version_major": 2,
       "version_minor": 0
      },
      "text/plain": [
       "HBox(children=(Accordion(children=(Tree(nodes=(Node(icon_style='warning', name='databases'), Node(icon_style='…"
      ]
     },
     "execution_count": 40,
     "metadata": {},
     "output_type": "execute_result"
    }
   ],
   "source": [
    "pf = PyironFlow([wf])\n",
    "pf.gui"
   ]
  },
  {
   "cell_type": "code",
   "execution_count": null,
   "id": "3720a967-0afb-4031-857e-d15323894f95",
   "metadata": {},
   "outputs": [],
   "source": []
  }
 ],
 "metadata": {
  "kernelspec": {
   "display_name": "Python 3 (ipykernel)",
   "language": "python",
   "name": "python3"
  },
  "language_info": {
   "codemirror_mode": {
    "name": "ipython",
    "version": 3
   },
   "file_extension": ".py",
   "mimetype": "text/x-python",
   "name": "python",
   "nbconvert_exporter": "python",
   "pygments_lexer": "ipython3",
   "version": "3.12.4"
  }
 },
 "nbformat": 4,
 "nbformat_minor": 5
}
