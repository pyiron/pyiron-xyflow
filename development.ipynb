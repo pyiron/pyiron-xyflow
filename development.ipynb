{
 "cells": [
  {
   "cell_type": "code",
   "execution_count": 1,
   "id": "e0f2617d-b647-45eb-9688-6ad3da6401f7",
   "metadata": {
    "scrolled": true
   },
   "outputs": [],
   "source": [
    "# !npm install react react-dom @xyflow/react @anywidget/react"
   ]
  },
  {
   "cell_type": "code",
   "execution_count": 12,
   "id": "7a1876e6-3d07-46da-a618-381a65e177b8",
   "metadata": {},
   "outputs": [
    {
     "name": "stdout",
     "output_type": "stream",
     "text": [
      "\u001b[1G\u001b[0K⠙\u001b[1G\u001b[0K\n",
      "  \u001b[37mstatic/\u001b[0m\u001b[1mwidget.js\u001b[0m   \u001b[36m304.6kb\u001b[0m\n",
      "  \u001b[37mstatic/\u001b[0m\u001b[1mwidget.css\u001b[0m   \u001b[36m15.1kb\u001b[0m\n",
      "\n",
      "⚡ \u001b[32mDone in 47ms\u001b[0m\n",
      "\u001b[1G\u001b[0K⠙\u001b[1G\u001b[0K"
     ]
    }
   ],
   "source": [
    "!npx esbuild js/widget.jsx --minify --format=esm --bundle --outdir=static"
   ]
  },
  {
   "cell_type": "code",
   "execution_count": 13,
   "id": "bacdd7c5-db0b-45b9-b5c9-960157b3265c",
   "metadata": {},
   "outputs": [],
   "source": [
    "import anywidget\n",
    "import pathlib\n",
    "import traitlets\n",
    "import os\n",
    "import json"
   ]
  },
  {
   "cell_type": "code",
   "execution_count": 14,
   "id": "c43f096b-3435-40b7-84f5-d21281af4622",
   "metadata": {},
   "outputs": [],
   "source": [
    "class ReactFlowWidget(anywidget.AnyWidget):\n",
    "    path = pathlib.Path(os.getcwd()) / 'static' \n",
    "    _esm = path / \"widget.js\"\n",
    "    _css = path / \"widget.css\"\n",
    "    value = traitlets.Int(0).tag(sync=True)"
   ]
  },
  {
   "cell_type": "code",
   "execution_count": 15,
   "id": "86260af7-a89c-4716-b1e2-bd87169a5f8c",
   "metadata": {},
   "outputs": [
    {
     "data": {
      "application/vnd.jupyter.widget-view+json": {
       "model_id": "5130461a89cb49b391baa311edb9e92b",
       "version_major": 2,
       "version_minor": 1
      },
      "text/plain": [
       "ReactFlowWidget()"
      ]
     },
     "execution_count": 15,
     "metadata": {},
     "output_type": "execute_result"
    }
   ],
   "source": [
    "w = ReactFlowWidget()\n",
    "w"
   ]
  },
  {
   "cell_type": "code",
   "execution_count": 16,
   "id": "23222809-34df-4d42-b81c-a82bee6e86e3",
   "metadata": {},
   "outputs": [],
   "source": [
    "nodes = [\n",
    "    {\n",
    "      'id': '1',\n",
    "      'data': { 'label': 'Hello' },\n",
    "      'position': { 'x': 0, 'y': 0 },\n",
    "      'type': 'input',\n",
    "      'sourcePosition': 'right',\n",
    "    },\n",
    "    {\n",
    "      'id': '2',\n",
    "      'data': { 'label': 'message' },\n",
    "      'position': { 'x': 200, 'y': 100 },\n",
    "      'type': 'output',\n",
    "      'targetPosition': 'left',      \n",
    "    },\n",
    "    {\n",
    "      'id': '3',\n",
    "      'data': { 'label': 'message' },\n",
    "      'position': { 'x': 0, 'y': 100 },\n",
    "      'type': 'customNode',\n",
    "      'style': {\n",
    "              'border': '1px black solid',\n",
    "              'padding': 20\n",
    "            },    \n",
    "      'targetPosition': 'left',  \n",
    "      'sourcePosition': 'right',  \n",
    "    }\n",
    "]"
   ]
  },
  {
   "cell_type": "code",
   "execution_count": 10,
   "id": "2bd6a8f8-d972-4f69-8205-46c1482c4672",
   "metadata": {},
   "outputs": [],
   "source": [
    "nodes_json = json.dumps(nodes)\n",
    "w.send(nodes_json)"
   ]
  },
  {
   "cell_type": "code",
   "execution_count": null,
   "id": "29e56e46-dc9b-45b9-bdda-d9bb550380b1",
   "metadata": {},
   "outputs": [],
   "source": []
  },
  {
   "cell_type": "code",
   "execution_count": null,
   "id": "54aa2571-5f3f-43f4-adfc-c94b70f24694",
   "metadata": {},
   "outputs": [],
   "source": []
  }
 ],
 "metadata": {
  "kernelspec": {
   "display_name": "Python 3 (ipykernel)",
   "language": "python",
   "name": "python3"
  },
  "language_info": {
   "codemirror_mode": {
    "name": "ipython",
    "version": 3
   },
   "file_extension": ".py",
   "mimetype": "text/x-python",
   "name": "python",
   "nbconvert_exporter": "python",
   "pygments_lexer": "ipython3",
   "version": "3.12.4"
  }
 },
 "nbformat": 4,
 "nbformat_minor": 5
}
